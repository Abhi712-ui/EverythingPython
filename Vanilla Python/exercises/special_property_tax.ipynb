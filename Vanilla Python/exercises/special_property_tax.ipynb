{
 "cells": [
  {
   "cell_type": "code",
   "execution_count": 3,
   "id": "af1e65e9",
   "metadata": {},
   "outputs": [
    {
     "name": "stdout",
     "output_type": "stream",
     "text": [
      "(540000 * 0.01) + (264429 * 0.01959567588752082) = 10581.664979261244\n"
     ]
    }
   ],
   "source": [
    "def special_property_tax(home_value, affordable_home_price, ADU=False):\n",
    "    total = 0\n",
    "    if home_value <= affordable_home_price:\n",
    "        total += (home_value * 0.01)\n",
    "        print(f\"{home_value} * 0.01 = {total}\")\n",
    "    else:\n",
    "        taxable_extra = home_value - affordable_home_price\n",
    "        extra_rate = (taxable_extra/affordable_home_price)/100 + 0.01\n",
    "        if extra_rate > 0.1:\n",
    "            extra_rate = 0.1\n",
    "        if ADU:\n",
    "            extra_rate -= 0.005\n",
    "        total += (home_value * 0.01)\n",
    "        total += taxable_extra * extra_rate\n",
    "        print(f\"({home_value} * 0.01) + ({taxable_extra} * {extra_rate}) = {total}\")\n",
    "    \n",
    "special_property_tax(540_000, 275571)"
   ]
  }
 ],
 "metadata": {
  "kernelspec": {
   "display_name": ".venv",
   "language": "python",
   "name": "python3"
  },
  "language_info": {
   "codemirror_mode": {
    "name": "ipython",
    "version": 3
   },
   "file_extension": ".py",
   "mimetype": "text/x-python",
   "name": "python",
   "nbconvert_exporter": "python",
   "pygments_lexer": "ipython3",
   "version": "3.11.4"
  }
 },
 "nbformat": 4,
 "nbformat_minor": 5
}
