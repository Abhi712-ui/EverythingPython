{
  "cells": [
    {
      "cell_type": "markdown",
      "metadata": {
        "id": "Cbp3gz5qOuW7"
      },
      "source": [
        " - dict.setdefault(key, default=None) -> if the dictionary that calls this method has a key that is the same as the parameter passed in, then it will return the corresponding value connected to that key. If the dictionary does not have a key by that name, it will create one, and it will assign it a corresponding value that is equal to the second parameter, if the second parameter is not given, then it will be assigned the value None\n",
        "\n",
        " - dict.get(key, default=None) -> references the dictionary value corresponding to the key parameter. If there is not a key by that name in the dictionary, then the function will return None as the default if the second parameter is not set. If it is, then it will return that value instead.\n",
        "\n",
        " - A or B -> This is the same as the boolean operator Or. If A is true, then return A. If A is not true, then B will be returned."
      ]
    },
    {
      "cell_type": "code",
      "execution_count": null,
      "metadata": {
        "colab": {
          "base_uri": "https://localhost:8080/",
          "height": 176
        },
        "id": "zto90zedPMh_",
        "outputId": "983dcc42-b684-443c-c036-b0d5765dcd56"
      },
      "outputs": [],
      "source": [
        "#Basic Class Syntax\n",
        "class ClassName:\n",
        "    \"\"\"Optional docstring describing the class\"\"\"\n",
        "\n",
        "    def __init__(self, parameters):\n",
        "        \"\"\"Constructor method - runs when object is created\"\"\"\n",
        "        self.attribute = value\n",
        "\n",
        "    def method_name(self, parameters):\n",
        "        \"\"\"Instance method\"\"\"\n",
        "        return something\n",
        "\n",
        "# Creating an object (instance)\n",
        "obj = ClassName(arguments)"
      ]
    },
    {
      "cell_type": "markdown",
      "metadata": {},
      "source": [
        "The self parameter here refers to the instance of the class that is created\n",
        "__init__ is the name of the constructor method where we define the attributes\n",
        "__str__ is the name of the method that delivers a string representation of the object"
      ]
    },
    {
      "cell_type": "code",
      "execution_count": 1,
      "metadata": {},
      "outputs": [
        {
          "name": "stdout",
          "output_type": "stream",
          "text": [
            "Student(Alice, ID: 12345, Major: Computer Science)\n",
            "Student(Bob, ID: 67890, Major: Undeclared)\n"
          ]
        }
      ],
      "source": [
        "class Student:\n",
        "    def __init__(self, name, student_id, major=\"Undeclared\"):\n",
        "        \"\"\"Constructor with required and optional parameters\"\"\"\n",
        "        self.name = name\n",
        "        self.student_id = student_id\n",
        "        self.major = major\n",
        "        self.grades = []  # Initialize empty list\n",
        "        self.gpa = 0.0    # Initialize with default value\n",
        "    \n",
        "    def __str__(self):\n",
        "        \"\"\"String representation of the object\"\"\"\n",
        "        return f\"Student({self.name}, ID: {self.student_id}, Major: {self.major})\"\n",
        "\n",
        "# Creating students\n",
        "student1 = Student(\"Alice\", \"12345\", \"Computer Science\")\n",
        "student2 = Student(\"Bob\", \"67890\")  # Uses default major\n",
        "\n",
        "print(student1)  # Student(Alice, ID: 12345, Major: Computer Science)\n",
        "print(student2)  # Student(Bob, ID: 67890, Major: Undeclared)"
      ]
    },
    {
      "cell_type": "markdown",
      "metadata": {},
      "source": [
        "Class attributes are the same for all instances of the class, while instance attributes are always unique for each instance of the class"
      ]
    },
    {
      "cell_type": "code",
      "execution_count": null,
      "metadata": {},
      "outputs": [],
      "source": [
        "class BankAccount:\n",
        "    # Class attribute - shared by all instances\n",
        "    bank_name = \"Python Bank\"\n",
        "    interest_rate = 0.02\n",
        "    total_accounts = 0  # Track total number of accounts\n",
        "    \n",
        "    def __init__(self, account_holder, initial_balance=0):\n",
        "        # Instance attributes - unique to each instance\n",
        "        self.account_holder = account_holder\n",
        "        self.balance = initial_balance\n",
        "        self.account_number = f\"ACC{BankAccount.total_accounts + 1:04d}\"\n",
        "        \n",
        "        # Update class attribute\n",
        "        BankAccount.total_accounts += 1\n",
        "    \n",
        "    def deposit(self, amount):\n",
        "        if amount > 0:\n",
        "            self.balance += amount\n",
        "            return f\"Deposited ${amount}. New balance: ${self.balance}\"\n",
        "        return \"Invalid deposit amount\"\n",
        "    \n",
        "    def withdraw(self, amount):\n",
        "        if 0 < amount <= self.balance:\n",
        "            self.balance -= amount\n",
        "            return f\"Withdrew ${amount}. New balance: ${self.balance}\"\n",
        "        return \"Insufficient funds or invalid amount\"\n",
        "    \n",
        "    def get_info(self):\n",
        "        return f\"{self.bank_name} - Account: {self.account_number}, Holder: {self.account_holder}, Balance: ${self.balance}\"\n",
        "\n",
        "# Creating accounts\n",
        "acc1 = BankAccount(\"Alice\", 1000)\n",
        "acc2 = BankAccount(\"Bob\", 500)\n",
        "\n",
        "print(acc1.get_info())  # Python Bank - Account: ACC0001, Holder: Alice, Balance: $1000\n",
        "print(acc2.get_info())  # Python Bank - Account: ACC0002, Holder: Bob, Balance: $500\n",
        "\n",
        "# Class attribute accessed through class or instance\n",
        "print(BankAccount.total_accounts)  # 2\n",
        "print(acc1.total_accounts)         # 2 (same value)\n",
        "\n",
        "# Instance attributes are unique\n",
        "print(acc1.balance)  # 1000\n",
        "print(acc2.balance)  # 500"
      ]
    },
    {
      "cell_type": "markdown",
      "metadata": {},
      "source": [
        "The difference between a class method and an instance method in python is that class methods in python are not bound to an instance of the object and can be called, while instance methods operate on a specific instance of a class object in python"
      ]
    }
  ],
  "metadata": {
    "colab": {
      "provenance": []
    },
    "kernelspec": {
      "display_name": "Python 3",
      "name": "python3"
    },
    "language_info": {
      "codemirror_mode": {
        "name": "ipython",
        "version": 3
      },
      "file_extension": ".py",
      "mimetype": "text/x-python",
      "name": "python",
      "nbconvert_exporter": "python",
      "pygments_lexer": "ipython3",
      "version": "3.11.4"
    }
  },
  "nbformat": 4,
  "nbformat_minor": 0
}
