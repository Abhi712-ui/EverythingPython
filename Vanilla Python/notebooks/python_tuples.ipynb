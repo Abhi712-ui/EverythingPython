{
 "cells": [
  {
   "cell_type": "code",
   "execution_count": null,
   "id": "a49cbf99",
   "metadata": {},
   "outputs": [],
   "source": [
    "#A tuple is a immutable, ordered sequence that once created, its length and element identities cannot be changed\n",
    "#Typically used as lightweight records, (Fixed fields in a fixed order)\n",
    "# And as keys in dictionaries and sets(tuples are hashable if all elements are hashable)\n",
    "#For multiple return values and unpacking\n",
    "t = (1, 2, 3)\n",
    "t = () #empty tuple\n",
    "t = 1, 2, 3 #parentheses optional in simple literals\n",
    "t = tuple([1, 2, 3]) #from iterable\n",
    "t = tuple(\"abc\") #('a', 'b', 'c')"
   ]
  },
  {
   "cell_type": "code",
   "execution_count": null,
   "id": "1db9bd58",
   "metadata": {},
   "outputs": [],
   "source": [
    "#Here it's the commas that make it a tuple and not the parentheses\n",
    "(1) #just the int 1\n",
    "(1,) #a 1-tuple"
   ]
  },
  {
   "cell_type": "code",
   "execution_count": null,
   "id": "9b1b0450",
   "metadata": {},
   "outputs": [],
   "source": [
    "#The Commas help with readability\n",
    "point = (\n",
    "    10,\n",
    "    20,\n",
    ")"
   ]
  },
  {
   "cell_type": "code",
   "execution_count": null,
   "id": "bd819cdb",
   "metadata": {},
   "outputs": [],
   "source": [
    "#What immutabiilty really means is that you cannot reassign, remove, or append elements\n",
    "t = (1, 2, 3)\n",
    "# t[0] = 99  -> TypeError\n",
    "#Immutability is shallow, which means that if a tuple holds an element that is mutable, like for example a list, then that list can be changed\n",
    "t = ([], 2)\n",
    "t[0].append(1)   # allowed; tuple still points to the same list object"
   ]
  },
  {
   "cell_type": "code",
   "execution_count": null,
   "id": "bcd79a7a",
   "metadata": {},
   "outputs": [],
   "source": [
    "#tuple operations\n",
    "t = (1, 2, 3)\n",
    "u = (4, 5)\n",
    "t + u #concatenation -> (1, 2, 3, 4, 5)\n",
    "u * 3 #repetition -> (4, 5, 4, 5, 4, 5)\n",
    "t[0], t[-1] #indexing -> 1, 3\n",
    "t[1:] #slicing -> (2, 3)\n",
    "3 in t #membership -> True\n",
    "len(t) #length"
   ]
  },
  {
   "cell_type": "code",
   "execution_count": null,
   "id": "b8e776c9",
   "metadata": {},
   "outputs": [
    {
     "data": {
      "text/plain": [
       "1"
      ]
     },
     "execution_count": 3,
     "metadata": {},
     "output_type": "execute_result"
    }
   ],
   "source": [
    "# Sample tuples\n",
    "t = (10, 20, 30, 20, 40, 20)\n",
    "u = (('a', 1), ('b', 2), ('a', 1))\n",
    "v = (True, 1, 0, False)\n",
    "\n",
    "# --- index(x[, start[, stop]]) ---\n",
    "\n",
    "t.index(20)            # -> 1          first occurrence\n",
    "t.index(20, 2)         # -> 3          search starting at index 2\n",
    "t.index(20, 4, 6)      # -> 5          search in slice t[4:6]\n",
    "t.index(20, -3)        # -> 5          negative start allowed\n",
    "\n",
    "# ValueError if not found:\n",
    "try:\n",
    "    t.index(99)\n",
    "except ValueError as e:\n",
    "    print(\"not found:\", e)\n",
    "\n",
    "# With compound elements:\n",
    "u.index(('a', 1))      # -> 0\n",
    "u.index(('a', 1), 1)   # -> 2          skip the first\n",
    "\n",
    "# Bool/int equality nuance (True == 1, False == 0):\n",
    "v.index(True)          # -> 0\n",
    "v.index(False)         # -> 2          0 equals False, found at index 2 first\n",
    "\n",
    "# --- count(x) ---\n",
    "\n",
    "t.count(20)            # -> 3\n",
    "t.count(25)            # -> 0\n",
    "u.count(('a', 1))      # -> 2\n",
    "v.count(True)          # -> 2          True and 1 both count\n",
    "v.count(False)         # -> 2          False and 0 both count\n"
   ]
  },
  {
   "cell_type": "code",
   "execution_count": null,
   "id": "a09fa5c7",
   "metadata": {},
   "outputs": [],
   "source": [
    "#Tuple Comparison\n",
    "(1, 9) < (2, 0) #True\n",
    "(1, 2, 3) == tuple([1, 2, 3]) #True"
   ]
  },
  {
   "cell_type": "code",
   "execution_count": null,
   "id": "4ebfab1e",
   "metadata": {},
   "outputs": [],
   "source": [
    "#Packing and Unpacking Tuples\n",
    "pair = 10, 20 #Packing\n",
    "x, y = pair #Unpacking\n",
    "x, y = y, x #Swapping values\n",
    "head, *middle, tail = (1, 2, 3, 4, 5) #middle -> [2, 3, 4]\n",
    "#Unpacking in loops\n",
    "pairs = [(1, 'a'), (2, 'b')]\n",
    "for a, b in pairs:\n",
    "    print(f\"{a}, {b}\")\n",
    "\n",
    "#Unpacking a function with multiple return values\n",
    "def minmax(seq):\n",
    "    return min(seq), max(seq)\n",
    "\n",
    "lo, hi = minmax([3, 1, 4])"
   ]
  },
  {
   "cell_type": "code",
   "execution_count": null,
   "id": "d5646574",
   "metadata": {},
   "outputs": [],
   "source": [
    "#Tuples as dictionary keys and set elements\n",
    "#Works when all elements are hashable (e.g., numbers, strings, other tuples of hashables):\n",
    "coords = {}\n",
    "coords[(10, 20)] = \"pt A\"#OK\n",
    "coords[([1,2], 3)] = \"bad\"#TypeError: list unhashable"
   ]
  },
  {
   "cell_type": "code",
   "execution_count": null,
   "id": "b6e758f5",
   "metadata": {},
   "outputs": [],
   "source": [
    "#Slightly smaller and faster than lists for fixed, read-only data (less overhead; better locality).\n",
    "#Safer as function defaults or constants (can’t be mutated accidentally).\n",
    "def classify(p):\n",
    "    match p:\n",
    "        case (0, 0):\n",
    "            return \"origin\"\n",
    "        case (x, 0):\n",
    "            return f\"x-axis at {x}\"\n",
    "        case (0, y):\n",
    "            return f\"y-axis at {y}\"\n",
    "        case (x, y):\n",
    "            return f\"point {x},{y}\""
   ]
  },
  {
   "cell_type": "code",
   "execution_count": null,
   "id": "cdc8c059",
   "metadata": {},
   "outputs": [],
   "source": [
    "\"\"\"\n",
    "Common Pitfalls\n",
    " - Forgetting the comma in singletons: use (value,).\n",
    " - Assuming deep immutability: a tuple holding a list can still “change” via that list.\n",
    " - Using tuples where order/size aren’t fixed—prefer lists when the collection will be edited.\n",
    " - Expecting list methods (append, extend, sort)—tuples don’t have them.\n",
    "\n",
    "Alternatives and Complements\n",
    " - namedtuple (from collections): tuples with field names—good for small, immutable records.\n",
    " - dataclasses: lightweight classes (mutable by default) with named fields and type hints.\n",
    " - typing.Tuple / tuple[T, ...]: annotate shapes and element types for static checkers.\n",
    "\"\"\""
   ]
  }
 ],
 "metadata": {
  "kernelspec": {
   "display_name": ".venv",
   "language": "python",
   "name": "python3"
  },
  "language_info": {
   "codemirror_mode": {
    "name": "ipython",
    "version": 3
   },
   "file_extension": ".py",
   "mimetype": "text/x-python",
   "name": "python",
   "nbconvert_exporter": "python",
   "pygments_lexer": "ipython3",
   "version": "3.11.4"
  }
 },
 "nbformat": 4,
 "nbformat_minor": 5
}
