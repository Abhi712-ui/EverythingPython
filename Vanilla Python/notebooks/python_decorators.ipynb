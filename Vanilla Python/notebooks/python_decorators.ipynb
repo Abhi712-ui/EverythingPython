{
 "cells": [
  {
   "cell_type": "markdown",
   "id": "3a4974ed",
   "metadata": {},
   "source": [
    "### Decorators in python essentially allow you to modify or enhance the behavior of a function or a class without making any changes to its code"
   ]
  },
  {
   "cell_type": "code",
   "execution_count": null,
   "id": "e9e7a4cd",
   "metadata": {},
   "outputs": [],
   "source": [
    "@decorator_name\n",
    "def my_function():\n",
    "    pass"
   ]
  },
  {
   "cell_type": "markdown",
   "id": "30c4372e",
   "metadata": {},
   "source": [
    "### Python functions are first class objects, which means that they can be assigned to variables, passed in as arguments to other functions, returned from other functions, and stored in data structures"
   ]
  },
  {
   "cell_type": "code",
   "execution_count": null,
   "id": "64ec4cbb",
   "metadata": {},
   "outputs": [],
   "source": [
    "def greet(name):\n",
    "    return f\"Hello, {name}!\"\n",
    "\n",
    "# Functions are objects - you can assign them to variables\n",
    "my_function = greet\n",
    "print(my_function(\"Alice\"))  # Hello, Alice!\n",
    "\n",
    "# You can store them in lists\n",
    "function_list = [greet, print, len]\n",
    "\n",
    "# You can pass them as arguments\n",
    "def call_function(func, arg):\n",
    "    return func(arg)\n",
    "\n",
    "result = call_function(greet, \"Bob\")  # Hello, Bob!"
   ]
  },
  {
   "cell_type": "markdown",
   "id": "07a14872",
   "metadata": {},
   "source": [
    "### You can also define functions inside of other functions\n",
    "### This is called a closure, where the inner function remembers the variables from the outer function;s scope"
   ]
  },
  {
   "cell_type": "code",
   "execution_count": null,
   "id": "8109fdc2",
   "metadata": {},
   "outputs": [],
   "source": [
    "def outer_function(message):\n",
    "    def inner_function():\n",
    "        print(f\"Inner says: {message}\")\n",
    "    \n",
    "    return inner_function\n",
    "\n",
    "# Create a new function\n",
    "my_func = outer_function(\"Hello from inner!\")\n",
    "my_func()  # Inner says: Hello from inner!"
   ]
  },
  {
   "cell_type": "markdown",
   "id": "0b15717c",
   "metadata": {},
   "source": [
    "### Here’s an example of what a decorator would do, but not in the syntax of a decorator"
   ]
  },
  {
   "cell_type": "code",
   "execution_count": null,
   "id": "3ae3a8b3",
   "metadata": {},
   "outputs": [],
   "source": [
    "def my_function():\n",
    "    print(\"Doing some work...\")\n",
    "\n",
    "# I want to add timing to this function\n",
    "import time\n",
    "\n",
    "def timing_wrapper(func):\n",
    "    def wrapper():\n",
    "        start_time = time.time()\n",
    "        func()  # Call the original function\n",
    "        end_time = time.time()\n",
    "        print(f\"Function took {end_time - start_time:.4f} seconds\")\n",
    "    return wrapper\n",
    "\n",
    "# Manually \"decorate\" the function\n",
    "my_function = timing_wrapper(my_function)\n",
    "my_function()\n",
    "# Output:\n",
    "# Doing some work...\n",
    "# Function took 0.0001 seconds"
   ]
  },
  {
   "cell_type": "markdown",
   "id": "b42d2d8c",
   "metadata": {},
   "source": [
    "### Here’s what this would look like if you created it using the decorator syntax"
   ]
  },
  {
   "cell_type": "code",
   "execution_count": 1,
   "id": "85a6ee7f",
   "metadata": {},
   "outputs": [
    {
     "name": "stdout",
     "output_type": "stream",
     "text": [
      "Doing some work...\n",
      "Function took 0.0001 seconds\n"
     ]
    }
   ],
   "source": [
    "import time\n",
    "\n",
    "def timing_decorator(func):\n",
    "    def wrapper():\n",
    "        start_time = time.time()\n",
    "        func()\n",
    "        end_time = time.time()\n",
    "        print(f\"Function took {end_time - start_time:.4f} seconds\")\n",
    "    return wrapper\n",
    "\n",
    "# This...\n",
    "@timing_decorator\n",
    "def my_function():\n",
    "    print(\"Doing some work...\")\n",
    "\n",
    "# Is exactly equivalent to this:\n",
    "# my_function = timing_decorator(my_function)\n",
    "\n",
    "my_function()  # Automatically timed!"
   ]
  },
  {
   "cell_type": "markdown",
   "id": "d9bbc9a0",
   "metadata": {},
   "source": [
    "## Basic Decorator Examples\n",
    "### Simple Logging Calls"
   ]
  },
  {
   "cell_type": "code",
   "execution_count": null,
   "id": "7dfd27e0",
   "metadata": {},
   "outputs": [],
   "source": [
    "def log_calls(func):\n",
    "    def wrapper():\n",
    "        print(f\"Calling function: {func.__name__}\")\n",
    "        result = func()\n",
    "        print(f\"Finished calling: {func.__name__}\")\n",
    "        return result\n",
    "    return wrapper\n",
    "\n",
    "@log_calls\n",
    "def say_hello():\n",
    "    print(\"Hello!\")\n",
    "    return \"greeting_complete\"\n",
    "\n",
    "result = say_hello()\n",
    "# Output:\n",
    "# Calling function: say_hello\n",
    "# Hello!\n",
    "# Finished calling: say_hello"
   ]
  },
  {
   "cell_type": "markdown",
   "id": "d7e476be",
   "metadata": {},
   "source": [
    "### Validation Decorator"
   ]
  },
  {
   "cell_type": "code",
   "execution_count": null,
   "id": "0c0ec3c8",
   "metadata": {},
   "outputs": [],
   "source": [
    "def validate_positive(func):\n",
    "    def wrapper(number):\n",
    "        if number <= 0:\n",
    "            raise ValueError(\"Number must be positive!\")\n",
    "        return func(number)\n",
    "    return wrapper\n",
    "\n",
    "@validate_positive\n",
    "def square_root(n):\n",
    "    return n ** 0.5\n",
    "\n",
    "print(square_root(16))  # 4.0\n",
    "# square_root(-4)  # Would raise ValueError"
   ]
  },
  {
   "cell_type": "markdown",
   "id": "a44ab467",
   "metadata": {},
   "source": [
    "### Handling Decorator Arguments with *args and **kwargs"
   ]
  },
  {
   "cell_type": "code",
   "execution_count": null,
   "id": "e864b346",
   "metadata": {},
   "outputs": [],
   "source": [
    "def debug_decorator(func):\n",
    "    def wrapper(*args, **kwargs):\n",
    "        print(f\"Calling {func.__name__} with args: {args}, kwargs: {kwargs}\")\n",
    "        result = func(*args, **kwargs)\n",
    "        print(f\"{func.__name__} returned: {result}\")\n",
    "        return result\n",
    "    return wrapper\n",
    "\n",
    "@debug_decorator\n",
    "def add(a, b):\n",
    "    return a + b\n",
    "\n",
    "@debug_decorator\n",
    "def greet(name, greeting=\"Hello\"):\n",
    "    return f\"{greeting}, {name}!\"\n",
    "\n",
    "print(add(5, 3))\n",
    "# Output:\n",
    "# Calling add with args: (5, 3), kwargs: {}\n",
    "# add returned: 8\n",
    "# 8\n",
    "\n",
    "print(greet(\"Alice\", greeting=\"Hi\"))\n",
    "# Output:\n",
    "# Calling greet with args: ('Alice',), kwargs: {'greeting': 'Hi'}\n",
    "# greet returned: Hi, Alice!\n",
    "# Hi, Alice!"
   ]
  },
  {
   "cell_type": "markdown",
   "id": "df30615a",
   "metadata": {},
   "source": [
    "## Decorators with Parameters\n",
    "### This is called a Decorator Factory, a function that returns a decorator"
   ]
  },
  {
   "cell_type": "code",
   "execution_count": null,
   "id": "04863e30",
   "metadata": {},
   "outputs": [],
   "source": [
    "def repeat(times):\n",
    "    def decorator(func):\n",
    "        def wrapper(*args, **kwargs):\n",
    "            for i in range(times):\n",
    "                result = func(*args, **kwargs)\n",
    "            return result\n",
    "        return wrapper\n",
    "    return decorator\n",
    "\n",
    "@repeat(3)\n",
    "def say_hello():\n",
    "    print(\"Hello!\")\n",
    "\n",
    "say_hello()\n",
    "# Output:\n",
    "# Hello!\n",
    "# Hello!\n",
    "# Hello!"
   ]
  },
  {
   "cell_type": "markdown",
   "id": "ba533109",
   "metadata": {},
   "source": [
    "### More Complex Parameterized Decorators"
   ]
  },
  {
   "cell_type": "code",
   "execution_count": 4,
   "id": "f032e26d",
   "metadata": {},
   "outputs": [],
   "source": [
    "\n",
    "def retry(max_attempts=3, delay=1):\n",
    "    def decorator(func):\n",
    "        def wrapper(*args, **kwargs):\n",
    "            import time\n",
    "            for attempt in range(max_attempts):\n",
    "                try:\n",
    "                    return func(*args, **kwargs)\n",
    "                except Exception as e:\n",
    "                    if attempt == max_attempts - 1:\n",
    "                        raise e\n",
    "                    print(f\"Attempt {attempt + 1} failed: {e}. Retrying in {delay}s...\")\n",
    "                    time.sleep(delay)\n",
    "        return wrapper\n",
    "    return decorator\n",
    "\n",
    "@retry(max_attempts=3, delay=0.5)\n",
    "def unreliable_function():\n",
    "    import random\n",
    "    if random.random() < 0.7:  # 70% chance of failure\n",
    "        raise Exception(\"Random failure!\")\n",
    "    return \"Success!\"\n",
    "\n",
    "# This will retry up to 3 times with 0.5s delay between attempts"
   ]
  },
  {
   "cell_type": "markdown",
   "id": "42134bb0",
   "metadata": {},
   "source": [
    "### Preserving function metadata -> Normally, decorators replace the original function, which causes it to lose its metadata"
   ]
  },
  {
   "cell_type": "code",
   "execution_count": null,
   "id": "91bce7c6",
   "metadata": {},
   "outputs": [],
   "source": [
    "def simple_decorator(func):\n",
    "    def wrapper(*args, **kwargs):\n",
    "        return func(*args, **kwargs)\n",
    "    return wrapper\n",
    "\n",
    "@simple_decorator\n",
    "def example_function():\n",
    "    \"\"\"This is an example function.\"\"\"\n",
    "    pass\n",
    "\n",
    "print(example_function.__name__)    # wrapper (not example_function!)\n",
    "print(example_function.__doc__)     # None (lost the docstring!)"
   ]
  },
  {
   "cell_type": "markdown",
   "id": "d88730e6",
   "metadata": {},
   "source": [
    "### functools.wraps can help you prevent this from happening, preserving metadata"
   ]
  },
  {
   "cell_type": "code",
   "execution_count": null,
   "id": "45623142",
   "metadata": {},
   "outputs": [],
   "source": [
    "from functools import wraps\n",
    "\n",
    "def better_decorator(func):\n",
    "    @wraps(func)\n",
    "    def wrapper(*args, **kwargs):\n",
    "        return func(*args, **kwargs)\n",
    "    return wrapper\n",
    "\n",
    "@better_decorator\n",
    "def example_function():\n",
    "    \"\"\"This is an example function.\"\"\"\n",
    "    pass\n",
    "\n",
    "print(example_function.__name__)    # example_function\n",
    "print(example_function.__doc__)     # This is an example function."
   ]
  },
  {
   "cell_type": "markdown",
   "id": "76634faf",
   "metadata": {},
   "source": [
    "## Decorator Examples\n",
    "### Caching/Memoization"
   ]
  },
  {
   "cell_type": "code",
   "execution_count": null,
   "id": "c0bbe3d9",
   "metadata": {},
   "outputs": [],
   "source": [
    "from functools import wraps\n",
    "\n",
    "def memoize(func):\n",
    "    cache = {}\n",
    "    \n",
    "    @wraps(func)\n",
    "    def wrapper(*args, **kwargs):\n",
    "        # Create a key from arguments\n",
    "        key = str(args) + str(sorted(kwargs.items()))\n",
    "        \n",
    "        if key not in cache:\n",
    "            cache[key] = func(*args, **kwargs)\n",
    "            print(f\"Computing {func.__name__}{args}\")\n",
    "        else:\n",
    "            print(f\"Using cached result for {func.__name__}{args}\")\n",
    "        \n",
    "        return cache[key]\n",
    "    return wrapper\n",
    "\n",
    "@memoize\n",
    "def fibonacci(n):\n",
    "    if n < 2:\n",
    "        return n\n",
    "    return fibonacci(n-1) + fibonacci(n-2)\n",
    "\n",
    "print(fibonacci(10))  # Will show which calculations are cached"
   ]
  },
  {
   "cell_type": "markdown",
   "id": "f57330dd",
   "metadata": {},
   "source": [
    "### Authentication/Authorization"
   ]
  },
  {
   "cell_type": "code",
   "execution_count": null,
   "id": "f87fba5a",
   "metadata": {},
   "outputs": [],
   "source": [
    "def requires_auth(func):\n",
    "    @wraps(func)\n",
    "    def wrapper(*args, **kwargs):\n",
    "        # In a real app, you'd check session, token, etc.\n",
    "        current_user = get_current_user()  # Hypothetical function\n",
    "        if not current_user:\n",
    "            raise PermissionError(\"Authentication required\")\n",
    "        return func(*args, **kwargs)\n",
    "    return wrapper\n",
    "\n",
    "@requires_auth\n",
    "def delete_user_data(user_id):\n",
    "    # Only runs if user is authenticated\n",
    "    print(f\"Deleting data for user {user_id}\")"
   ]
  },
  {
   "cell_type": "markdown",
   "id": "a4896a6d",
   "metadata": {},
   "source": [
    "### Rate Limiting"
   ]
  },
  {
   "cell_type": "code",
   "execution_count": null,
   "id": "6874444a",
   "metadata": {},
   "outputs": [],
   "source": [
    "import time\n",
    "from functools import wraps\n",
    "\n",
    "def rate_limit(calls_per_second=1):\n",
    "    def decorator(func):\n",
    "        last_called = [0.0]  # Use list to make it mutable\n",
    "        \n",
    "        @wraps(func)\n",
    "        def wrapper(*args, **kwargs):\n",
    "            elapsed = time.time() - last_called[0]\n",
    "            wait_time = 1.0 / calls_per_second - elapsed\n",
    "            \n",
    "            if wait_time > 0:\n",
    "                time.sleep(wait_time)\n",
    "            \n",
    "            last_called[0] = time.time()\n",
    "            return func(*args, **kwargs)\n",
    "        return wrapper\n",
    "    return decorator\n",
    "\n",
    "@rate_limit(calls_per_second=2)\n",
    "def api_call():\n",
    "    print(f\"API called at {time.time()}\")\n",
    "\n",
    "# Can only be called twice per second\n",
    "for i in range(5):\n",
    "    api_call()"
   ]
  },
  {
   "cell_type": "markdown",
   "id": "6d0b1db9",
   "metadata": {},
   "source": [
    "### Performance Monitoring"
   ]
  },
  {
   "cell_type": "code",
   "execution_count": null,
   "id": "82bf255a",
   "metadata": {},
   "outputs": [],
   "source": [
    "import time\n",
    "import functools\n",
    "\n",
    "def performance_monitor(func):\n",
    "    @functools.wraps(func)\n",
    "    def wrapper(*args, **kwargs):\n",
    "        start_time = time.perf_counter()\n",
    "        start_memory = get_memory_usage()  # Hypothetical function\n",
    "        \n",
    "        try:\n",
    "            result = func(*args, **kwargs)\n",
    "            status = \"SUCCESS\"\n",
    "        except Exception as e:\n",
    "            result = None\n",
    "            status = f\"ERROR: {e}\"\n",
    "            raise\n",
    "        finally:\n",
    "            end_time = time.perf_counter()\n",
    "            end_memory = get_memory_usage()\n",
    "            \n",
    "            print(f\"Function: {func.__name__}\")\n",
    "            print(f\"Status: {status}\")\n",
    "            print(f\"Time: {(end_time - start_time)*1000:.2f}ms\")\n",
    "            print(f\"Memory: {end_memory - start_memory}MB\")\n",
    "            \n",
    "        return result\n",
    "    return wrapper\n",
    "\n",
    "@performance_monitor\n",
    "def complex_calculation(n):\n",
    "    return sum(i**2 for i in range(n))"
   ]
  },
  {
   "cell_type": "markdown",
   "id": "7a88aa0d",
   "metadata": {},
   "source": [
    "### Class Decorators"
   ]
  },
  {
   "cell_type": "code",
   "execution_count": null,
   "id": "0ed4b977",
   "metadata": {},
   "outputs": [],
   "source": [
    "def add_string_method(cls):\n",
    "    def __str__(self):\n",
    "        return f\"{cls.__name__} instance\"\n",
    "    \n",
    "    cls.__str__ = __str__\n",
    "    return cls\n",
    "\n",
    "@add_string_method\n",
    "class MyClass:\n",
    "    def __init__(self, value):\n",
    "        self.value = value\n",
    "\n",
    "obj = MyClass(42)\n",
    "print(obj)  # MyClass instance"
   ]
  },
  {
   "cell_type": "markdown",
   "id": "5901e9ff",
   "metadata": {},
   "source": [
    "### Singleton pattern with class decorator"
   ]
  },
  {
   "cell_type": "code",
   "execution_count": null,
   "id": "17bfdc5f",
   "metadata": {},
   "outputs": [],
   "source": [
    "def singleton(cls):\n",
    "    instances = {}\n",
    "    \n",
    "    @wraps(cls)\n",
    "    def get_instance(*args, **kwargs):\n",
    "        if cls not in instances:\n",
    "            instances[cls] = cls(*args, **kwargs)\n",
    "        return instances[cls]\n",
    "    \n",
    "    return get_instance\n",
    "\n",
    "@singleton\n",
    "class DatabaseConnection:\n",
    "    def __init__(self):\n",
    "        print(\"Creating database connection\")\n",
    "    \n",
    "    def query(self, sql):\n",
    "        return f\"Executing: {sql}\"\n",
    "\n",
    "# Only one instance will ever be created\n",
    "db1 = DatabaseConnection()  # Creating database connection\n",
    "db2 = DatabaseConnection()  # (no output - reuses instance)\n",
    "print(db1 is db2)  # True"
   ]
  },
  {
   "cell_type": "markdown",
   "id": "4f2dbaaf",
   "metadata": {},
   "source": [
    "### You can also stack multiple Decorators"
   ]
  },
  {
   "cell_type": "code",
   "execution_count": null,
   "id": "e2147ae0",
   "metadata": {},
   "outputs": [],
   "source": [
    "def bold(func):\n",
    "    @wraps(func)\n",
    "    def wrapper(*args, **kwargs):\n",
    "        result = func(*args, **kwargs)\n",
    "        return f\"<b>{result}</b>\"\n",
    "    return wrapper\n",
    "\n",
    "def italic(func):\n",
    "    @wraps(func)\n",
    "    def wrapper(*args, **kwargs):\n",
    "        result = func(*args, **kwargs)\n",
    "        return f\"<i>{result}</i>\"\n",
    "    return wrapper\n",
    "\n",
    "@bold\n",
    "@italic\n",
    "def say_hello(name):\n",
    "    return f\"Hello, {name}!\"\n",
    "\n",
    "print(say_hello(\"Alice\"))  # <b><i>Hello, Alice!</i></b>"
   ]
  },
  {
   "cell_type": "markdown",
   "id": "cfbd4c29",
   "metadata": {},
   "source": [
    "### These decorators are applied from bottom to top (Inner to Outer)"
   ]
  },
  {
   "cell_type": "code",
   "execution_count": null,
   "id": "784780b7",
   "metadata": {},
   "outputs": [],
   "source": [
    "# This:\n",
    "@bold\n",
    "@italic\n",
    "def say_hello(name):\n",
    "    return f\"Hello, {name}!\"\n",
    "\n",
    "# Is equivalent to:\n",
    "say_hello = bold(italic(say_hello))"
   ]
  },
  {
   "cell_type": "markdown",
   "id": "4cbc3120",
   "metadata": {},
   "source": [
    "### You can also use classes as decorators"
   ]
  },
  {
   "cell_type": "code",
   "execution_count": null,
   "id": "0360d6f3",
   "metadata": {},
   "outputs": [],
   "source": [
    "class CountCalls:\n",
    "    def __init__(self, func):\n",
    "        self.func = func\n",
    "        self.count = 0\n",
    "        functools.update_wrapper(self, func)\n",
    "    \n",
    "    def __call__(self, *args, **kwargs):\n",
    "        self.count += 1\n",
    "        print(f\"Call {self.count} to {self.func.__name__}\")\n",
    "        return self.func(*args, **kwargs)\n",
    "\n",
    "@CountCalls\n",
    "def greet(name):\n",
    "    return f\"Hello, {name}!\"\n",
    "\n",
    "print(greet(\"Alice\"))  # Call 1 to greet\n",
    "print(greet(\"Bob\"))    # Call 2 to greet\n",
    "print(greet.count)     # 2"
   ]
  },
  {
   "cell_type": "markdown",
   "id": "cd81fe3a",
   "metadata": {},
   "source": [
    "### You can also create contextual decorators"
   ]
  },
  {
   "cell_type": "code",
   "execution_count": null,
   "id": "44cc2719",
   "metadata": {},
   "outputs": [],
   "source": [
    "import threading\n",
    "\n",
    "def synchronized(func):\n",
    "    func._lock = threading.Lock()\n",
    "    \n",
    "    @wraps(func)\n",
    "    def wrapper(*args, **kwargs):\n",
    "        with func._lock:\n",
    "            return func(*args, **kwargs)\n",
    "    return wrapper\n",
    "\n",
    "@synchronized\n",
    "def thread_safe_function():\n",
    "    # This function can only be executed by one thread at a time\n",
    "    pass"
   ]
  },
  {
   "cell_type": "markdown",
   "id": "ecc6661a",
   "metadata": {},
   "source": [
    "### Some decorators can also act like properties"
   ]
  },
  {
   "cell_type": "code",
   "execution_count": null,
   "id": "f7c30df6",
   "metadata": {},
   "outputs": [],
   "source": [
    "class lazy_property:\n",
    "    def __init__(self, func):\n",
    "        self.func = func\n",
    "        self.name = func.__name__\n",
    "    \n",
    "    def __get__(self, obj, cls):\n",
    "        if obj is None:\n",
    "            return self\n",
    "        \n",
    "        # Calculate the value once and store it\n",
    "        value = self.func(obj)\n",
    "        setattr(obj, self.name, value)\n",
    "        return value\n",
    "\n",
    "class Circle:\n",
    "    def __init__(self, radius):\n",
    "        self.radius = radius\n",
    "    \n",
    "    @lazy_property\n",
    "    def area(self):\n",
    "        print(\"Calculating area...\")  # This will only print once\n",
    "        return 3.14159 * self.radius ** 2\n",
    "\n",
    "circle = Circle(5)\n",
    "print(circle.area)  # Calculating area... 78.53975\n",
    "print(circle.area)  # 78.53975 (no calculation message)"
   ]
  },
  {
   "cell_type": "markdown",
   "id": "d4e668b9",
   "metadata": {},
   "source": [
    "## Some Common Pitfalls for Decorators\n",
    "### The Late Binding Problem"
   ]
  },
  {
   "cell_type": "code",
   "execution_count": null,
   "id": "5a45fd01",
   "metadata": {},
   "outputs": [],
   "source": [
    "# WRONG - all decorators will reference the same variable\n",
    "decorators = []\n",
    "for i in range(3):\n",
    "    def make_decorator():\n",
    "        def decorator(func):\n",
    "            @wraps(func)\n",
    "            def wrapper(*args, **kwargs):\n",
    "                print(f\"Decorator {i}\")  # i will always be 2!\n",
    "                return func(*args, **kwargs)\n",
    "            return wrapper\n",
    "        return decorator\n",
    "    decorators.append(make_decorator())\n",
    "\n",
    "# CORRECT - capture the current value\n",
    "decorators = []\n",
    "for i in range(3):\n",
    "    def make_decorator(num=i):  # Capture i as default argument\n",
    "        def decorator(func):\n",
    "            @wraps(func)\n",
    "            def wrapper(*args, **kwargs):\n",
    "                print(f\"Decorator {num}\")\n",
    "                return func(*args, **kwargs)\n",
    "            return wrapper\n",
    "        return decorator\n",
    "    decorators.append(make_decorator())"
   ]
  },
  {
   "cell_type": "markdown",
   "id": "160e1031",
   "metadata": {},
   "source": [
    "### Always use functools.wraps"
   ]
  },
  {
   "cell_type": "code",
   "execution_count": null,
   "id": "cf403e1e",
   "metadata": {},
   "outputs": [],
   "source": [
    "from functools import wraps\n",
    "\n",
    "def good_decorator(func):\n",
    "    @wraps(func)  # Always include this!\n",
    "    def wrapper(*args, **kwargs):\n",
    "        return func(*args, **kwargs)\n",
    "    return wrapper"
   ]
  },
  {
   "cell_type": "markdown",
   "id": "835148af",
   "metadata": {},
   "source": [
    "### Handle edge cases"
   ]
  },
  {
   "cell_type": "code",
   "execution_count": null,
   "id": "6b2dc436",
   "metadata": {},
   "outputs": [],
   "source": [
    "def robust_decorator(func):\n",
    "    @wraps(func)\n",
    "    def wrapper(*args, **kwargs):\n",
    "        try:\n",
    "            # Your decorator logic here\n",
    "            return func(*args, **kwargs)\n",
    "        except Exception as e:\n",
    "            # Decide how to handle exceptions\n",
    "            # Re-raise, log, return default value, etc.\n",
    "            raise\n",
    "    return wrapper"
   ]
  },
  {
   "cell_type": "markdown",
   "id": "30a1b404",
   "metadata": {},
   "source": [
    "### Keep decorators simple"
   ]
  },
  {
   "cell_type": "code",
   "execution_count": null,
   "id": "5a82b196",
   "metadata": {},
   "outputs": [],
   "source": [
    "# DON'T - too much logic in the decorator\n",
    "def overly_complex_decorator(func):\n",
    "    @wraps(func)\n",
    "    def wrapper(*args, **kwargs):\n",
    "        # 50 lines of complex logic\n",
    "        pass\n",
    "    return wrapper\n",
    "\n",
    "# DO - extract complex logic to separate functions\n",
    "def helper_function():\n",
    "    # Complex logic here\n",
    "    pass\n",
    "\n",
    "def clean_decorator(func):\n",
    "    @wraps(func)\n",
    "    def wrapper(*args, **kwargs):\n",
    "        helper_function()\n",
    "        return func(*args, **kwargs)\n",
    "    return wrapper"
   ]
  },
  {
   "cell_type": "markdown",
   "id": "f5765f3c",
   "metadata": {},
   "source": [
    "## Python also has many built in decorators that you can use\n",
    "### Property"
   ]
  },
  {
   "cell_type": "code",
   "execution_count": null,
   "id": "e47d577e",
   "metadata": {},
   "outputs": [],
   "source": [
    "class Circle:\n",
    "    def __init__(self, radius):\n",
    "        self._radius = radius\n",
    "    \n",
    "    @property\n",
    "    def radius(self):\n",
    "        return self._radius\n",
    "    \n",
    "    @radius.setter\n",
    "    def radius(self, value):\n",
    "        if value < 0:\n",
    "            raise ValueError(\"Radius cannot be negative\")\n",
    "        self._radius = value\n",
    "    \n",
    "    @property\n",
    "    def area(self):\n",
    "        return 3.14159 * self._radius ** 2\n",
    "\n",
    "circle = Circle(5)\n",
    "print(circle.area)  # 78.53975\n",
    "circle.radius = 10  # Uses setter"
   ]
  },
  {
   "cell_type": "markdown",
   "id": "37bed37d",
   "metadata": {},
   "source": [
    "### Static method and class method"
   ]
  },
  {
   "cell_type": "code",
   "execution_count": null,
   "id": "573031cf",
   "metadata": {},
   "outputs": [],
   "source": [
    "class MathUtils:\n",
    "    class_variable = \"I'm a class variable\"\n",
    "    \n",
    "    @staticmethod\n",
    "    def add(a, b):\n",
    "        # No access to self or cls\n",
    "        return a + b\n",
    "    \n",
    "    @classmethod\n",
    "    def get_class_info(cls):\n",
    "        # Access to cls (the class itself)\n",
    "        return f\"This is {cls.__name__}: {cls.class_variable}\"\n",
    "\n",
    "print(MathUtils.add(2, 3))  # 5\n",
    "print(MathUtils.get_class_info())  # This is MathUtils: I'm a class variable"
   ]
  },
  {
   "cell_type": "markdown",
   "id": "de2597b4",
   "metadata": {},
   "source": [
    "### lru_cache from functools"
   ]
  },
  {
   "cell_type": "code",
   "execution_count": null,
   "id": "44eb4ac4",
   "metadata": {},
   "outputs": [],
   "source": [
    "from functools import lru_cache\n",
    "\n",
    "@lru_cache(maxsize=128)\n",
    "def expensive_function(n):\n",
    "    # Simulating expensive computation\n",
    "    print(f\"Computing for {n}\")\n",
    "    return n ** 2\n",
    "\n",
    "print(expensive_function(5))  # Computing for 5, returns 25\n",
    "print(expensive_function(5))  # Returns 25 (from cache, no computation)"
   ]
  }
 ],
 "metadata": {
  "kernelspec": {
   "display_name": "Python 3",
   "language": "python",
   "name": "python3"
  },
  "language_info": {
   "codemirror_mode": {
    "name": "ipython",
    "version": 3
   },
   "file_extension": ".py",
   "mimetype": "text/x-python",
   "name": "python",
   "nbconvert_exporter": "python",
   "pygments_lexer": "ipython3",
   "version": "3.11.4"
  }
 },
 "nbformat": 4,
 "nbformat_minor": 5
}
