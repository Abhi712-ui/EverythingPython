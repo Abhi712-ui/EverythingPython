{
 "cells": [
  {
   "cell_type": "markdown",
   "id": "2692baa8",
   "metadata": {},
   "source": [
    "### The basic format of a Lambda statement in python is lambda arguments: expression"
   ]
  },
  {
   "cell_type": "code",
   "execution_count": null,
   "id": "037ea5c0",
   "metadata": {},
   "outputs": [],
   "source": [
    "# Regular function\n",
    "def add(x, y):\n",
    "    return x + y\n",
    "\n",
    "# Lambda equivalent\n",
    "add_lambda = lambda x, y: x + y\n",
    "\n",
    "# Both work the same way\n",
    "print(add(5, 3))        # 8\n",
    "print(add_lambda(5, 3)) # 8"
   ]
  },
  {
   "cell_type": "markdown",
   "id": "2efbbedb",
   "metadata": {},
   "source": [
    "### Lambda functions can only contain a single expression"
   ]
  },
  {
   "cell_type": "code",
   "execution_count": null,
   "id": "87502264",
   "metadata": {},
   "outputs": [],
   "source": [
    "# This works\n",
    "square = lambda x: x ** 2\n",
    "\n",
    "# This would NOT work in a lambda\n",
    "def complex_function(x):\n",
    "    if x > 0:\n",
    "        return x ** 2\n",
    "    else:\n",
    "        return -x ** 2"
   ]
  },
  {
   "cell_type": "markdown",
   "id": "d1d1b3a9",
   "metadata": {},
   "source": [
    "### Lambda functions don’t need to have a return statement added explicitly, they do that automatically\n",
    "### Arguments in lambda functions work exactly like they do in regular functions"
   ]
  },
  {
   "cell_type": "code",
   "execution_count": null,
   "id": "b7f1f2b0",
   "metadata": {},
   "outputs": [],
   "source": [
    "# No arguments\n",
    "greeting = lambda: \"Hello, World!\"\n",
    "\n",
    "# One argument  \n",
    "square = lambda x: x ** 2\n",
    "\n",
    "# Multiple arguments\n",
    "add = lambda x, y: x + y\n",
    "\n",
    "# Default arguments\n",
    "power = lambda x, exp=2: x ** exp\n",
    "\n",
    "# *args and **kwargs\n",
    "flexible = lambda *args, **kwargs: sum(args) + sum(kwargs.values())\n",
    "\n",
    "print(flexible(1, 2, 3, a=4, b=5))  # 15"
   ]
  },
  {
   "cell_type": "markdown",
   "id": "d1520085",
   "metadata": {},
   "source": [
    "### They work best when combined with other functions like map(), filter(), and sorted()"
   ]
  },
  {
   "cell_type": "code",
   "execution_count": null,
   "id": "4247c8c5",
   "metadata": {},
   "outputs": [],
   "source": [
    "numbers = [1, 2, 3, 4, 5]\n",
    "\n",
    "# map() - apply function to each element\n",
    "squared = list(map(lambda x: x ** 2, numbers))\n",
    "print(squared)  # [1, 4, 9, 16, 25]\n",
    "\n",
    "# filter() - keep elements where function returns True\n",
    "evens = list(filter(lambda x: x % 2 == 0, numbers))\n",
    "print(evens)  # [2, 4]\n",
    "\n",
    "# sorted() - custom sorting logic\n",
    "students = [('Alice', 85), ('Bob', 90), ('Charlie', 78)]\n",
    "by_grade = sorted(students, key=lambda student: student[1])\n",
    "print(by_grade)  # [('Charlie', 78), ('Alice', 85), ('Bob', 90)]"
   ]
  },
  {
   "cell_type": "markdown",
   "id": "568b9583",
   "metadata": {},
   "source": [
    "### Lambdas also work well for event handlers"
   ]
  },
  {
   "cell_type": "code",
   "execution_count": null,
   "id": "b319e7a0",
   "metadata": {},
   "outputs": [],
   "source": [
    "# GUI programming (conceptual example)\n",
    "button.on_click(lambda: print(\"Button clicked!\"))\n",
    "\n",
    "# Instead of defining a separate function\n",
    "def button_handler():\n",
    "    print(\"Button clicked!\")\n",
    "button.on_click(button_handler)"
   ]
  },
  {
   "cell_type": "markdown",
   "id": "e01a8001",
   "metadata": {},
   "source": [
    "### For quick data transformations"
   ]
  },
  {
   "cell_type": "code",
   "execution_count": 3,
   "id": "309b2a60",
   "metadata": {},
   "outputs": [],
   "source": [
    "# Converting a list of strings to uppercase\n",
    "names = ['alice', 'bob', 'charlie']\n",
    "upper_names = list(map(lambda name: name.upper(), names))\n",
    "\n",
    "# Finding the maximum by a custom criteria\n",
    "people = [{'name': 'Alice', 'age': 25}, {'name': 'Bob', 'age': 30}]\n",
    "oldest = max(people, key=lambda person: person['age'])"
   ]
  },
  {
   "cell_type": "markdown",
   "id": "fffa3265",
   "metadata": {},
   "source": [
    "### Lambdas can also include conditional expressions"
   ]
  },
  {
   "cell_type": "code",
   "execution_count": null,
   "id": "dfd200ed",
   "metadata": {},
   "outputs": [],
   "source": [
    "# Using ternary operator in lambdas\n",
    "absolute_value = lambda x: x if x >= 0 else -x\n",
    "max_of_two = lambda a, b: a if a > b else b\n",
    "\n",
    "# More complex conditions\n",
    "grade_letter = lambda score: 'A' if score >= 90 else 'B' if score >= 80 else 'C' if score >= 70 else 'F'"
   ]
  },
  {
   "cell_type": "markdown",
   "id": "83bbafd5",
   "metadata": {},
   "source": [
    "### Lambdas can also return other lambdas, these are called closures"
   ]
  },
  {
   "cell_type": "code",
   "execution_count": null,
   "id": "cc3b2fa5",
   "metadata": {},
   "outputs": [],
   "source": [
    "# Creating function factories\n",
    "def make_multiplier(n):\n",
    "    return lambda x: x * n\n",
    "\n",
    "double = make_multiplier(2)\n",
    "triple = make_multiplier(3)\n",
    "\n",
    "print(double(5))  # 10\n",
    "print(triple(5))  # 15\n",
    "\n",
    "# Even more advanced - lambda returning lambda\n",
    "power_factory = lambda exp: lambda base: base ** exp\n",
    "square_func = power_factory(2)\n",
    "cube_func = power_factory(3)\n",
    "\n",
    "print(square_func(4))  # 16\n",
    "print(cube_func(3))    # 27"
   ]
  },
  {
   "cell_type": "markdown",
   "id": "75f37553",
   "metadata": {},
   "source": [
    "### Lambdas can also be integrated as elements within data structures"
   ]
  },
  {
   "cell_type": "code",
   "execution_count": null,
   "id": "43412766",
   "metadata": {},
   "outputs": [],
   "source": [
    "# Dictionary of lambda functions\n",
    "operations = {\n",
    "    'add': lambda x, y: x + y,\n",
    "    'multiply': lambda x, y: x * y,\n",
    "    'power': lambda x, y: x ** y\n",
    "}\n",
    "\n",
    "result = operations['add'](5, 3)  # 8\n",
    "\n",
    "# List of transformations\n",
    "transformers = [\n",
    "    lambda x: x ** 2,\n",
    "    lambda x: x + 10,\n",
    "    lambda x: x / 2\n",
    "]\n",
    "\n",
    "value = 4\n",
    "for transform in transformers:\n",
    "    value = transform(value)\n",
    "print(value)  # ((4^2) + 10) / 2 = 13.0"
   ]
  },
  {
   "cell_type": "markdown",
   "id": "2a049507",
   "metadata": {},
   "source": [
    "### Example - Data Processing Pipeline"
   ]
  },
  {
   "cell_type": "code",
   "execution_count": null,
   "id": "03a16dc6",
   "metadata": {},
   "outputs": [],
   "source": [
    "# Processing a list of user data\n",
    "users = [\n",
    "    {'name': 'Alice', 'age': 25, 'score': 85},\n",
    "    {'name': 'Bob', 'age': 30, 'score': 92},\n",
    "    {'name': 'Charlie', 'age': 35, 'score': 78},\n",
    "    {'name': 'Diana', 'age': 28, 'score': 96}\n",
    "]\n",
    "\n",
    "# Filter adults over 25, sort by score, get names\n",
    "adult_names = list(map(\n",
    "    lambda user: user['name'],\n",
    "    sorted(\n",
    "        filter(lambda user: user['age'] > 25, users),\n",
    "        key=lambda user: user['score'],\n",
    "        reverse=True\n",
    "    )\n",
    "))\n",
    "\n",
    "print(adult_names)  # ['Diana', 'Bob', 'Charlie']"
   ]
  },
  {
   "cell_type": "markdown",
   "id": "16df5129",
   "metadata": {},
   "source": [
    "### Example - Functional Programming Style"
   ]
  },
  {
   "cell_type": "code",
   "execution_count": null,
   "id": "1889c889",
   "metadata": {},
   "outputs": [],
   "source": [
    "from functools import reduce\n",
    "\n",
    "# Calculate compound interest using only lambda functions\n",
    "principal = 1000\n",
    "rate = 0.05\n",
    "years = 3\n",
    "\n",
    "# Using reduce with lambda to compound the interest\n",
    "final_amount = reduce(\n",
    "    lambda amount, year: amount * (1 + rate),\n",
    "    range(years),\n",
    "    principal\n",
    ")\n",
    "\n",
    "print(f\"${final_amount:.2f}\")  # $1157.63"
   ]
  },
  {
   "cell_type": "markdown",
   "id": "224a0bd8",
   "metadata": {},
   "source": [
    "### Example - Dynamic Sorting"
   ]
  },
  {
   "cell_type": "code",
   "execution_count": null,
   "id": "4e5b3e03",
   "metadata": {},
   "outputs": [],
   "source": [
    "# Flexible sorting based on different criteria\n",
    "students = [\n",
    "    ('Alice', 'Computer Science', 3.8),\n",
    "    ('Bob', 'Mathematics', 3.6),\n",
    "    ('Charlie', 'Physics', 3.9),\n",
    "    ('Diana', 'Computer Science', 3.7)\n",
    "]\n",
    "\n",
    "# Different sorting strategies\n",
    "sort_strategies = {\n",
    "    'name': lambda student: student[0],\n",
    "    'major': lambda student: student[1],\n",
    "    'gpa': lambda student: student[2],\n",
    "    'major_then_gpa': lambda student: (student[1], student[2])\n",
    "}\n",
    "\n",
    "# Sort by any criteria\n",
    "for strategy_name, strategy_func in sort_strategies.items():\n",
    "    sorted_students = sorted(students, key=strategy_func)\n",
    "    print(f\"\\nSorted by {strategy_name}:\")\n",
    "    for student in sorted_students:\n",
    "        print(f\"  {student}\")"
   ]
  },
  {
   "cell_type": "markdown",
   "id": "5ee84180",
   "metadata": {},
   "source": [
    "# Here are some advanced integration patterns for Lambdas\n",
    "###  Example -> Integration of decorators"
   ]
  },
  {
   "cell_type": "code",
   "execution_count": 5,
   "id": "e61274c2",
   "metadata": {},
   "outputs": [
    {
     "name": "stdout",
     "output_type": "stream",
     "text": [
      "Calling <lambda> with (5,), {}\n",
      "10\n"
     ]
    }
   ],
   "source": [
    "def log_calls(func):\n",
    "    def wrapper(*args, **kwargs):\n",
    "        print(f\"Calling {func.__name__} with {args}, {kwargs}\")\n",
    "        return func(*args, **kwargs)\n",
    "    return wrapper\n",
    "\n",
    "# You can't directly decorate a lambda, but you can wrap it\n",
    "logged_double = log_calls(lambda x: x * 2)\n",
    "print(logged_double(5))  # Logs the call, then returns 10"
   ]
  },
  {
   "cell_type": "markdown",
   "id": "6544bbeb",
   "metadata": {},
   "source": [
    "### Example -> With Classes"
   ]
  },
  {
   "cell_type": "code",
   "execution_count": null,
   "id": "08dadb7a",
   "metadata": {},
   "outputs": [],
   "source": [
    "class Calculator:\n",
    "    def __init__(self):\n",
    "        self.operations = {\n",
    "            '+': lambda x, y: x + y,\n",
    "            '-': lambda x, y: x - y,\n",
    "            '*': lambda x, y: x * y,\n",
    "            '/': lambda x, y: x / y if y != 0 else float('inf')\n",
    "        }\n",
    "    \n",
    "    def calculate(self, x, operator, y):\n",
    "        return self.operations.get(operator, lambda x, y: None)(x, y)\n",
    "\n",
    "calc = Calculator()\n",
    "print(calc.calculate(10, '+', 5))  # 15"
   ]
  },
  {
   "cell_type": "markdown",
   "id": "0ce92903",
   "metadata": {},
   "source": [
    "### Example -> Partial Function Application"
   ]
  },
  {
   "cell_type": "code",
   "execution_count": null,
   "id": "0b998558",
   "metadata": {},
   "outputs": [],
   "source": [
    "from functools import partial\n",
    "\n",
    "# Using lambda for partial application\n",
    "base_converter = lambda number, base: int(str(number), base)\n",
    "binary_converter = lambda number: base_converter(number, 2)\n",
    "hex_converter = lambda number: base_converter(number, 16)\n",
    "\n",
    "# Though partial is more explicit for this use case\n",
    "binary_converter_partial = partial(int, base=2)"
   ]
  },
  {
   "cell_type": "markdown",
   "id": "f9e4fb4f",
   "metadata": {},
   "source": [
    "# Here are some common pitfalls that you need to avoid\n",
    "###  The Late Binding Problem"
   ]
  },
  {
   "cell_type": "code",
   "execution_count": null,
   "id": "b9ef92fa",
   "metadata": {},
   "outputs": [],
   "source": [
    "# WRONG - all lambdas will use the final value of i\n",
    "functions = []\n",
    "for i in range(3):\n",
    "    functions.append(lambda x: x + i)\n",
    "\n",
    "# All functions add 2 (the final value of i)\n",
    "print([f(10) for f in functions])  # [12, 12, 12]\n",
    "\n",
    "# CORRECT - capture the current value of i\n",
    "functions = []\n",
    "for i in range(3):\n",
    "    functions.append(lambda x, i=i: x + i)\n",
    "\n",
    "print([f(10) for f in functions])  # [10, 11, 12]"
   ]
  },
  {
   "cell_type": "markdown",
   "id": "0ee56973",
   "metadata": {},
   "source": [
    "### Readability vs Cleverness"
   ]
  },
  {
   "cell_type": "code",
   "execution_count": null,
   "id": "037e16d5",
   "metadata": {},
   "outputs": [],
   "source": [
    "# Too clever - hard to read\n",
    "result = list(map(lambda x: list(map(lambda y: y**2, x)), matrix))\n",
    "\n",
    "# Better - more readable\n",
    "def square_row(row):\n",
    "    return [value**2 for value in row]\n",
    "\n",
    "result = [square_row(row) for row in matrix]\n",
    "\n",
    "# Or use nested list comprehension\n",
    "result = [[value**2 for value in row] for row in matrix]"
   ]
  },
  {
   "cell_type": "markdown",
   "id": "433f8282",
   "metadata": {},
   "source": [
    "### Performance Considerations"
   ]
  },
  {
   "cell_type": "code",
   "execution_count": null,
   "id": "e2f3c641",
   "metadata": {},
   "outputs": [],
   "source": [
    "import timeit\n",
    "\n",
    "# Lambda in a loop (slower)\n",
    "numbers = list(range(1000))\n",
    "def using_lambda():\n",
    "    return [x for x in numbers if (lambda n: n % 2 == 0)(x)]\n",
    "\n",
    "# Direct expression (faster)\n",
    "def using_direct():\n",
    "    return [x for x in numbers if x % 2 == 0]\n",
    "\n",
    "# Direct is faster because no function call overhead"
   ]
  },
  {
   "cell_type": "markdown",
   "id": "b76af907",
   "metadata": {},
   "source": [
    "### Lambda expressions vs List comprehensions vs Generator expressions"
   ]
  },
  {
   "cell_type": "code",
   "execution_count": null,
   "id": "6de5db70",
   "metadata": {},
   "outputs": [],
   "source": [
    "numbers = [1, 2, 3, 4, 5, 6, 7, 8, 9, 10]\n",
    "\n",
    "# Lambda with filter/map - good for reusable logic\n",
    "is_even = lambda x: x % 2 == 0\n",
    "square = lambda x: x ** 2\n",
    "\n",
    "evens = list(filter(is_even, numbers))\n",
    "squared_evens = list(map(square, filter(is_even, numbers)))\n",
    "\n",
    "# List comprehension - often more readable for simple operations\n",
    "evens = [x for x in numbers if x % 2 == 0]\n",
    "squared_evens = [x**2 for x in numbers if x % 2 == 0]\n",
    "\n",
    "# Generator expression - memory efficient for large datasets\n",
    "evens_gen = (x for x in numbers if x % 2 == 0)\n",
    "squared_evens_gen = (x**2 for x in numbers if x % 2 == 0)"
   ]
  }
 ],
 "metadata": {
  "kernelspec": {
   "display_name": "Python 3",
   "language": "python",
   "name": "python3"
  },
  "language_info": {
   "codemirror_mode": {
    "name": "ipython",
    "version": 3
   },
   "file_extension": ".py",
   "mimetype": "text/x-python",
   "name": "python",
   "nbconvert_exporter": "python",
   "pygments_lexer": "ipython3",
   "version": "3.11.4"
  }
 },
 "nbformat": 4,
 "nbformat_minor": 5
}
