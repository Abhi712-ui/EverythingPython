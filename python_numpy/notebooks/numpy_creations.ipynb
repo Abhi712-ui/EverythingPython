{
 "cells": [
  {
   "cell_type": "code",
   "execution_count": null,
   "id": "54b0d7fd",
   "metadata": {},
   "outputs": [],
   "source": [
    "import numpy as np\n",
    "np.array([1, 2, 3], dtype=None, copy=True, order='K', ndmin=0) #Always constructs\n",
    "#copy = True means that this array uses a new memory buffer, False means that it reuses freed memory, \n",
    "\n",
    "#copy means that it returns a view but that any required changes (dtype cast, order change, shape fix) will create a new copy regardless\n",
    "\n",
    "#order refers to the way that the elements are stored in memory\n",
    "#'C': row-major contiguous.\n",
    "#'F': column-major contiguous.\n",
    "#'A': like Fortran if the input is Fortran-contiguous, else C.\n",
    "#'K' (default): “keep” as close as possible to the input’s memory layout; makes minimal changes.\n",
    "\n",
    "#Note: For 1-D arrays, order has no practical effect on contiguity.\n",
    "#ndmin: Minimum number of dimensions. If the input has fewer, prepend size-1 axes on the left.\n",
    "#For a column vector, reshape explicitly: np.array([1,2,3], ndmin=2).T → (3,1) or use .reshape(-1,1).\n",
    "\n",
    "np.array([1,2,3], dtype=np.float32) #control dtype\n",
    "np.array(np.ones((2,3), order='F'), copy=False)  #may keep Fortran order due to 'K'\n",
    "np.array([1,2,3], ndmin=2) #shape (1,3)\n",
    "np.array([[1,2],[3,4]], order='F') #make Fortran-contiguous copy"
   ]
  },
  {
   "cell_type": "code",
   "execution_count": null,
   "id": "cd1d6918",
   "metadata": {},
   "outputs": [],
   "source": [
    "import numpy as np\n",
    "np.asarray([1, 2, 3], dtype=None, order=None, like=None) #avoid copy if possible\n",
    "#if like is true, then this method returns the result in the form of an array that comes from another framework if that framework implements __array_function__\n",
    "#If like is a NumPy array or None → normal NumPy result.\n",
    "\n",
    "np.asanyarray([1, 2, 3], dtype=None, order=None) #preserves subclasses\n",
    "#Takes in some kind of iterable, and if the object passed in is some kind of ndarray subclass, then it will be returned as it is\n",
    "\n",
    "np.frombuffer([1, 2, 3], dtype=float, count=-1, offset=0) #Not an actual buffer or anything\n",
    "#interprets a buffer and turns it into a 1d numpy array, count and offset control how much is read"
   ]
  },
  {
   "cell_type": "code",
   "execution_count": null,
   "id": "b2445878",
   "metadata": {},
   "outputs": [
    {
     "name": "stdout",
     "output_type": "stream",
     "text": [
      "[0 1 2 3]\n"
     ]
    }
   ],
   "source": [
    "buf = b'\\x00\\x01\\x02\\x03' #view over bytes (often read-only)\n",
    "v = np.frombuffer(buf, dtype=np.uint8) #view; modifying buf may change v\n",
    "v_copy = v.copy() #detach if needed\n",
    "print(v)"
   ]
  },
  {
   "cell_type": "code",
   "execution_count": 6,
   "id": "942d2dff",
   "metadata": {},
   "outputs": [
    {
     "name": "stdout",
     "output_type": "stream",
     "text": [
      "[1 2 3 4 5 6]\n"
     ]
    }
   ],
   "source": [
    "fromitr = np.fromiter((1, 2, 3, 4, 5, 6), dtype=np.int32, count=-1) #stream into 1-D efficiently\n",
    "print(fromitr)"
   ]
  },
  {
   "cell_type": "code",
   "execution_count": null,
   "id": "aa2ba087",
   "metadata": {},
   "outputs": [
    {
     "name": "stdout",
     "output_type": "stream",
     "text": [
      "[[0. 2. 4.]\n",
      " [1. 3. 5.]]\n",
      "[[0. 0. 0.]\n",
      " [0. 0. 0.]]\n",
      "[[1. 1. 1.]\n",
      " [1. 1. 1.]]\n",
      "[[-1.5 -1.5 -1.5]\n",
      " [-1.5 -1.5 -1.5]]\n"
     ]
    }
   ],
   "source": [
    "a = np.arange(6, dtype=np.float32).reshape(2, 3, order=\"F\")\n",
    "e = np.empty_like(a) #allocates fast buffer matching a’s shape, dtype, and memory order. Values are unspecified.\n",
    "print(e)\n",
    "z = np.zeros_like(a) #returns an array of zeros with a’s shape, dtype, and order\n",
    "print(z)\n",
    "o = np.ones_like(a) #returns an array of ones with a’s shape, dtype, and order.\n",
    "print(o)\n",
    "f = np.full_like(a, fill_value=-1.5) #returns an array filled with v, cast to a.dtype, with a’s shape and order.\n",
    "print(f)"
   ]
  },
  {
   "cell_type": "code",
   "execution_count": 13,
   "id": "34cd56e1",
   "metadata": {},
   "outputs": [
    {
     "data": {
      "text/plain": [
       "'\\n - Use empty only when you immediately write every element.\\n - Use zeros/ones when you need known initialization.\\n - Use full for any other constant fill.\\n - Prefer explicit dtype to avoid silent float64.\\n'"
      ]
     },
     "execution_count": 13,
     "metadata": {},
     "output_type": "execute_result"
    }
   ],
   "source": [
    "#Allocates an array but does not set values. Contents are arbitrary bytes (“garbage”). Fastest. Never read before you write\n",
    "a = np.empty((2,3), dtype=np.float32) \n",
    "\n",
    "#Allocates and fills with 0. Safe default, slightly slower than empty\n",
    "z = np.zeros((2,3), dtype=np.float32)\n",
    "\n",
    "#Allocates and fills with 1. Useful for biases, masks, or baselines.\n",
    "o = np.ones((2,3), dtype=np.int32)\n",
    "\n",
    "#Allocates and fills with a constant. fill_value is cast to dtype.\n",
    "f = np.full((2,3), -1.5, dtype=np.float32)\n",
    "\n",
    "'''\n",
    " - Use empty only when you immediately write every element.\n",
    " - Use zeros/ones when you need known initialization.\n",
    " - Use full for any other constant fill.\n",
    " - Prefer explicit dtype to avoid silent float64.\n",
    "'''"
   ]
  },
  {
   "cell_type": "code",
   "execution_count": null,
   "id": "7582e92d",
   "metadata": {},
   "outputs": [],
   "source": [
    "np.empty((3, 3), dtype=float, order='C') # ast, garbage values\n",
    "np.zeros((3, 3), dtype=float, order='C')\n",
    "np.ones((3, 3), dtype=float, order='C')\n",
    "np.full((3, 3), 5, dtype=None, order='C')"
   ]
  },
  {
   "cell_type": "code",
   "execution_count": null,
   "id": "b2d0a3e6",
   "metadata": {},
   "outputs": [
    {
     "name": "stdout",
     "output_type": "stream",
     "text": [
      "[   1.   10.  100. 1000.]\n",
      "[   1.   10.  100. 1000.]\n"
     ]
    }
   ],
   "source": [
    "#Generates num values whose exponents are evenly spaced from start to stop on a log scale of given base. \n",
    "#It returns base**linspace(start, stop, num). Endpoints are included by default.\n",
    "X = np.logspace(0, 3, num=4, base=10, dtype=np.float32) # 10^0, 10^1, 10^2, 10^3\n",
    "print(X)\n",
    "\n",
    "#Generates a geometric progression from start to stop with a constant ratio between terms. \n",
    "# Equivalent to exp(linspace(log(start), log(stop), num)) for positive reals. \n",
    "# Endpoints included. Use positive start and stop for real outputs.\n",
    "Y = np.geomspace(1, 1000, num=4, dtype=np.float32)  #1, 1*10, 10 * 10, 10 * 10 * 10\n",
    "print(Y)"
   ]
  },
  {
   "cell_type": "code",
   "execution_count": 2,
   "id": "7f06d932",
   "metadata": {},
   "outputs": [
    {
     "name": "stdout",
     "output_type": "stream",
     "text": [
      "\n",
      "[[0 1 0 0]\n",
      " [0 0 1 0]\n",
      " [0 0 0 1]]\n",
      "[[1 0 0]\n",
      " [0 1 0]\n",
      " [0 0 1]]\n",
      "[[4 0 0]\n",
      " [0 5 0]\n",
      " [0 0 6]]\n",
      "[1 5 9]\n",
      "[[1 1 0 0 0]\n",
      " [1 1 1 0 0]\n",
      " [1 1 1 1 0]]\n",
      "[[1 0 0]\n",
      " [4 5 0]\n",
      " [7 8 9]]\n",
      "[[1 2 3]\n",
      " [0 5 6]\n",
      " [0 0 9]]\n"
     ]
    }
   ],
   "source": [
    "import numpy as np\n",
    "#Creates a 2-D array with ones on the k-th diagonal and zeros elsewhere. \n",
    "# M defaults to N. k>0 → superdiagonal. \n",
    "# k<0 → subdiagonal.\n",
    "A = np.eye(3, 4, k=1, dtype=int)\n",
    "print(f\"\\n{A}\")\n",
    "\n",
    "#Square identity matrix (same as np.eye(n) with k=0).\n",
    "B = np.identity(3, dtype=int)\n",
    "print(B)\n",
    "\n",
    "#Two modes. \n",
    "#If v is 1-D, returns a 2-D array with v on the k-th diagonal. \n",
    "#If v is 2-D, returns the k-th diagonal of v as 1-D.\n",
    "C = np.diag([4,5,6], k=0) #np.diag(v, k=0)\n",
    "#v is some array like input. If that input is 1d, then this function returns a 2d array with v on the kth diagonal\n",
    "#if v is 2d, then the function returns a 1d array with the kth diagonal of v.\n",
    "#k has a default value of 0, and if k > 0, then we're looking at the kth superdiagonal (above the main diagonal)\n",
    "#if k < 0, then we're looking at the kth subdiagonal (below the main diagonal)\n",
    "arr = np.array([[1, 2, 3], [4, 5, 6], [7, 8, 9]], dtype=np.int32)\n",
    "D = np.diag(arr, k=0)\n",
    "print(C)\n",
    "print(D)\n",
    "\n",
    "#np.tri(N, M=None, k=0, dtype=float)\n",
    "#Lower-triangular mask (ones on and below the k-th diagonal, zeros above). M defaults to N.\n",
    "E = np.tri(3, 5, k=1, dtype=int) #Triangular mask of 1s on and below the kth diagonal\n",
    "#N is the number of rows, M is the number of columns\n",
    "print(E)\n",
    "\n",
    "#np.tril(A, k=0) A is the numpy array, and k represents the diagonal\n",
    "#This method keeps the kth diagonal and all the diagonals below it, and turns everything else into 0s\n",
    "sample = np.arange(1,10).reshape(3,3)\n",
    "F = np.tril(sample, k=0)\n",
    "print(F)\n",
    "\n",
    "#np.triu(A, k=0) A is the nnumpy array, and k represents the diagonal\n",
    "#Keeps the upper triangle of A (on and above the k-th diagonal). Zeros out elements below it.\n",
    "sample = np.arange(1,10).reshape(3,3)\n",
    "G = np.triu(sample, k=0)\n",
    "print(G)"
   ]
  },
  {
   "cell_type": "code",
   "execution_count": null,
   "id": "4a629ff1",
   "metadata": {},
   "outputs": [
    {
     "name": "stdout",
     "output_type": "stream",
     "text": [
      "[[0 1 2]\n",
      " [0 1 2]]\n",
      "(2, 3)\n",
      "[[10 10 10]\n",
      " [20 20 20]]\n",
      "(2, 3)\n",
      "[[0 0]\n",
      " [1 1]\n",
      " [2 2]]\n",
      "(3, 2)\n",
      "[[10 20]\n",
      " [10 20]\n",
      " [10 20]]\n",
      "(3, 2)\n"
     ]
    }
   ],
   "source": [
    "import numpy as np\n",
    "\n",
    "#np.meshgrid(x, y, indexing='xy')\n",
    "#Takes 1-D coordinate vectors and returns 2-D coordinate matrices. \n",
    "# Default 'xy': rows follow y, columns follow x. Use 'ij' for matrix indexing.\n",
    "x = np.array([0, 1, 2])\n",
    "y = np.array([10, 20])\n",
    "X, Y = np.meshgrid(x, y, indexing='xy')\n",
    "print(X)\n",
    "print(X.shape)\n",
    "print(Y)\n",
    "print(Y.shape)\n",
    "X, Y = np.meshgrid(x, y, indexing='ij')\n",
    "print(X)\n",
    "print(X.shape)\n",
    "print(Y)\n",
    "print(Y.shape)"
   ]
  },
  {
   "cell_type": "code",
   "execution_count": null,
   "id": "c82c4a88",
   "metadata": {},
   "outputs": [
    {
     "name": "stdout",
     "output_type": "stream",
     "text": [
      "[[0 0]\n",
      " [1 1]\n",
      " [2 2]]\n",
      "(3, 2)\n",
      "[[10 20]\n",
      " [10 20]\n",
      " [10 20]]\n",
      "(3, 2)\n"
     ]
    }
   ],
   "source": [
    "#np.mgrid[a:b:step, ...]\n",
    "#Dense grid via slice notation. Returns full coordinate matrices like meshgrid('ij'). Integer step → stop is exclusive. \n",
    "# Complex step (e.g., 5j) → like linspace with that many points.\n",
    "I, J = np.mgrid[0:3, 10:30:10]\n",
    "print(I)\n",
    "print(I.shape)\n",
    "print(J)\n",
    "print(J.shape)"
   ]
  },
  {
   "cell_type": "code",
   "execution_count": 7,
   "id": "d22f1e7c",
   "metadata": {},
   "outputs": [
    {
     "name": "stdout",
     "output_type": "stream",
     "text": [
      "[[0]\n",
      " [1]\n",
      " [2]]\n",
      "[[10 20]]\n"
     ]
    }
   ],
   "source": [
    "#np.ogrid[a:b:step, ...]\n",
    "#“Open” grid: returns broadcastable coordinate vectors instead of full matrices. \n",
    "# Memory-light. Shapes are expanded with size-1 axes.\n",
    "i, j = np.ogrid[0:3, 10:30:10]\n",
    "print(i)\n",
    "print(j)\n",
    "R = (i**2 + j**2)**0.5"
   ]
  },
  {
   "cell_type": "code",
   "execution_count": 10,
   "id": "d7b67e9b",
   "metadata": {},
   "outputs": [
    {
     "name": "stdout",
     "output_type": "stream",
     "text": [
      "[[[0 0]\n",
      "  [1 1]\n",
      "  [2 2]]\n",
      "\n",
      " [[0 1]\n",
      "  [0 1]\n",
      "  [0 1]]]\n",
      "\n",
      "\n",
      "[[0 0]\n",
      " [1 1]\n",
      " [2 2]]\n",
      "\n",
      "\n",
      "[[0 1]\n",
      " [0 1]\n",
      " [0 1]]\n"
     ]
    }
   ],
   "source": [
    "#np.indices(dimensions)\n",
    "#Index grid of given shape. Returns one integer matrix per axis stacked on axis 0.\n",
    "idx = np.indices((3, 2))\n",
    "print(idx)\n",
    "print(\"\\n\")\n",
    "I, J = idx[0], idx[1]\n",
    "print(I)\n",
    "print(\"\\n\")\n",
    "print(J)"
   ]
  }
 ],
 "metadata": {
  "kernelspec": {
   "display_name": ".venv",
   "language": "python",
   "name": "python3"
  },
  "language_info": {
   "codemirror_mode": {
    "name": "ipython",
    "version": 3
   },
   "file_extension": ".py",
   "mimetype": "text/x-python",
   "name": "python",
   "nbconvert_exporter": "python",
   "pygments_lexer": "ipython3",
   "version": "3.11.4"
  }
 },
 "nbformat": 4,
 "nbformat_minor": 5
}
