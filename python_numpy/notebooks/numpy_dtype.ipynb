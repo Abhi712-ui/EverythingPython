{
 "cells": [
  {
   "cell_type": "code",
   "execution_count": 19,
   "id": "dac5a0f9",
   "metadata": {},
   "outputs": [
    {
     "name": "stdout",
     "output_type": "stream",
     "text": [
      "int64, 8, 48, (24, 8)\n"
     ]
    }
   ],
   "source": [
    "import numpy as np\n",
    "# a dtype is for determining things like storage and semantics per element - kind, width, and byte order\n",
    "# for inspecting things:\n",
    "A = np.array(\n",
    "    [\n",
    "        [1, 2, 3], \n",
    "        [4, 5, 6]\n",
    "    ]\n",
    ")\n",
    "print(f\"{A.dtype}, {A.itemsize}, {A.nbytes}, {A.strides}\")"
   ]
  },
  {
   "cell_type": "code",
   "execution_count": 20,
   "id": "0c6727c3",
   "metadata": {},
   "outputs": [
    {
     "name": "stdout",
     "output_type": "stream",
     "text": [
      "Machine parameters for int32\n",
      "---------------------------------------------------------------\n",
      "min = -2147483648\n",
      "max = 2147483647\n",
      "---------------------------------------------------------------\n",
      "\n",
      "Machine parameters for float32\n",
      "---------------------------------------------------------------\n",
      "precision =   6   resolution = 1.0000000e-06\n",
      "machep =    -23   eps =        1.1920929e-07\n",
      "negep =     -24   epsneg =     5.9604645e-08\n",
      "minexp =   -126   tiny =       1.1754944e-38\n",
      "maxexp =    128   max =        3.4028235e+38\n",
      "nexp =        8   min =        -max\n",
      "smallest_normal = 1.1754944e-38   smallest_subnormal = 1.4012985e-45\n",
      "---------------------------------------------------------------\n",
      "\n"
     ]
    }
   ],
   "source": [
    "# For information\n",
    "print(np.iinfo(np.int32))\n",
    "print(np.finfo(np.float32))"
   ]
  },
  {
   "cell_type": "code",
   "execution_count": 21,
   "id": "d702ce61",
   "metadata": {},
   "outputs": [
    {
     "name": "stdout",
     "output_type": "stream",
     "text": [
      "[ True False  True], 1\n",
      "[1 2 3 4 5 6], 1\n",
      "[1 2 3 4 5 6], 2\n",
      "[1 2 3 4 5 6], 4\n",
      "[1 2 3 4 5 6], 8\n"
     ]
    }
   ],
   "source": [
    "#booleans\n",
    "B = np.array([True, False, True], dtype=np.bool_)\n",
    "print(f\"{B}, {B.itemsize}\") # Booleans are stored as one byte\n",
    "\n",
    "#Integers\n",
    "C = np.array([1, 2, 3, 4, 5, 6], dtype=np.int8)\n",
    "D = np.array([1, 2, 3, 4, 5, 6], dtype=np.int16)\n",
    "E = np.array([1, 2, 3, 4, 5, 6], dtype=np.int32)\n",
    "F = np.array([1, 2, 3, 4, 5, 6], dtype=np.int64)\n",
    "print(f\"{C}, {C.itemsize}\")\n",
    "print(f\"{D}, {D.itemsize}\")\n",
    "print(f\"{E}, {E.itemsize}\")\n",
    "print(f\"{F}, {F.itemsize}\")"
   ]
  },
  {
   "cell_type": "code",
   "execution_count": 22,
   "id": "7c0c52a5",
   "metadata": {},
   "outputs": [
    {
     "name": "stdout",
     "output_type": "stream",
     "text": [
      "[1 2 3 4 5 6], 1\n",
      "[1 2 3 4 5 6], 2\n",
      "[1 2 3 4 5 6], 4\n",
      "[1 2 3 4 5 6], 8\n"
     ]
    }
   ],
   "source": [
    "#Unisigned Integers\n",
    "# data type in computer science that stores only non-negative whole numbers (zero and positive numbers), \n",
    "# with a range that extends from 0 up to a maximum value determined by the number of bits used\n",
    "G = np.array([1, 2, 3, 4, 5, 6], dtype=np.uint8)\n",
    "H = np.array([1, 2, 3, 4, 5, 6], dtype=np.uint16)\n",
    "I = np.array([1, 2, 3, 4, 5, 6], dtype=np.uint32)\n",
    "J = np.array([1, 2, 3, 4, 5, 6], dtype=np.uint64)\n",
    "print(f\"{G}, {G.itemsize}\")\n",
    "print(f\"{H}, {H.itemsize}\")\n",
    "print(f\"{I}, {I.itemsize}\")\n",
    "print(f\"{J}, {J.itemsize}\")"
   ]
  },
  {
   "cell_type": "code",
   "execution_count": 23,
   "id": "fdcd8a65",
   "metadata": {},
   "outputs": [
    {
     "name": "stdout",
     "output_type": "stream",
     "text": [
      "[1. 2. 3. 4. 5.]\n",
      "[1. 2. 3. 4. 5.]\n",
      "[1. 2. 3. 4. 5.]\n"
     ]
    }
   ],
   "source": [
    "#Default for float is 64, but the ML default is 32\n",
    "K = np.array([1, 2, 3, 4, 5], dtype=np.float16)\n",
    "L = np.array([1, 2, 3, 4, 5], dtype=np.float32)\n",
    "M = np.array([1, 2, 3, 4, 5], dtype=np.float64)\n",
    "print(K)\n",
    "print(L)\n",
    "print(M)"
   ]
  },
  {
   "cell_type": "code",
   "execution_count": 24,
   "id": "5704daa9",
   "metadata": {},
   "outputs": [
    {
     "name": "stdout",
     "output_type": "stream",
     "text": [
      "8\n",
      "16\n"
     ]
    }
   ],
   "source": [
    "#Complex\n",
    "N = np.array([1 + 2j], dtype=np.complex64)\n",
    "O = np.array([1 + 2j], dtype=np.complex128)\n",
    "print(N.itemsize)\n",
    "print(O.itemsize)"
   ]
  },
  {
   "cell_type": "code",
   "execution_count": 25,
   "id": "4d5e42d5",
   "metadata": {},
   "outputs": [
    {
     "data": {
      "text/plain": [
       "array([ 1.11762202e+00, -1.38712490e+00, -4.26571608e-01, -8.03587258e-01,\n",
       "        6.01427734e-01, -7.49932453e-02,  5.96931949e-02, -3.20060886e-02,\n",
       "       -1.85484678e-01,  1.20477366e+00,  7.77453065e-01, -1.35828102e+00,\n",
       "        7.69827843e-01, -8.70226979e-01,  1.09976351e+00, -9.58474219e-01,\n",
       "       -1.27493191e+00, -1.36533809e+00, -1.47432756e+00,  4.33531702e-01,\n",
       "       -3.28120619e-01, -9.70968008e-01,  1.26550245e+00,  3.76360677e-03,\n",
       "       -1.06654119e+00,  1.72889876e+00, -4.51382279e-01,  4.86281700e-02,\n",
       "       -1.13824058e+00, -3.38293284e-01, -1.52973986e+00,  2.04066992e-01,\n",
       "       -5.36706373e-02, -9.06851947e-01, -2.10764054e-02, -1.24412775e+00,\n",
       "        8.32168758e-02, -2.47116044e-01,  1.31458926e+00,  9.20494974e-01,\n",
       "       -2.28772566e-01, -3.04026175e-02,  7.35633401e-03, -1.64132237e-01,\n",
       "       -1.50977643e-02,  1.22743702e+00,  1.04080665e+00,  6.79934442e-01,\n",
       "        2.51833498e-01,  1.66519105e+00,  1.03471780e+00, -3.81819338e-01,\n",
       "       -3.50518584e-01,  1.22865343e+00, -3.58671784e-01, -1.91329336e+00,\n",
       "        1.02716708e+00, -1.35516644e+00, -1.67146826e+00, -1.05700147e+00,\n",
       "       -1.32224083e+00,  7.73605883e-01, -1.72518516e+00, -1.46054700e-01,\n",
       "        4.05615538e-01, -1.41591561e+00,  8.94769073e-01,  1.43562794e+00,\n",
       "        2.76827425e-01,  8.86403859e-01, -3.11884642e-01,  9.88715768e-01,\n",
       "       -8.03856254e-01, -1.40204501e+00,  1.21072955e-01, -2.06587672e+00,\n",
       "        9.20176506e-01, -4.23296362e-01, -1.48019159e+00, -7.96946883e-01,\n",
       "        6.70407593e-01,  3.80793720e-01,  1.28363085e+00, -1.79944372e+00,\n",
       "        5.60377836e-01, -5.90178132e-01,  1.51303208e+00,  6.41709268e-01,\n",
       "       -8.43093395e-01, -6.77029967e-01,  4.70854819e-01,  7.62653276e-02,\n",
       "        1.42056477e+00, -7.76358664e-01,  1.30129427e-01, -1.38849840e-01,\n",
       "        7.50169158e-01,  1.61958981e+00,  4.82687056e-01,  9.58779693e-01,\n",
       "       -4.17934954e-01,  5.50004601e-01, -2.96979338e-01, -9.73719597e-01,\n",
       "        1.11106381e-01,  9.72077027e-02, -1.25531125e+00,  5.29800713e-01,\n",
       "        1.12077737e+00, -1.01363428e-01,  6.13391757e-01,  1.00130391e+00,\n",
       "        1.68095922e+00,  9.25125599e-01, -9.88251746e-01,  2.07802907e-01,\n",
       "       -1.21952963e+00,  8.93288851e-02, -1.05242741e+00, -6.91738844e-01,\n",
       "       -1.98243117e+00,  2.26763010e+00, -1.30793184e-01, -4.80873734e-01,\n",
       "       -1.23263919e+00,  7.59109497e-01, -4.76979882e-01, -6.20418072e-01,\n",
       "       -6.90260947e-01,  2.36514568e+00, -3.79644215e-01,  1.86467552e+00,\n",
       "       -8.31529915e-01,  3.34232748e-02,  3.28955203e-01, -1.66187775e+00,\n",
       "       -7.65310973e-02,  8.07482302e-01, -7.96676219e-01,  1.25187457e+00,\n",
       "        9.22664344e-01,  7.86681831e-01,  7.92365074e-01, -4.60196882e-01,\n",
       "        2.39749622e+00,  1.94805190e-01,  2.74518639e-01,  7.11525381e-02,\n",
       "        6.44241631e-01,  1.79095149e+00, -3.51870775e-01, -4.80484575e-01,\n",
       "       -2.04252422e-01,  8.52929652e-01,  6.62427366e-01,  1.16851497e+00,\n",
       "        8.33133638e-01,  1.07066207e-01,  7.59305298e-01, -5.09251177e-01,\n",
       "        1.11146343e+00, -9.24835503e-02,  8.39974046e-01, -3.51138711e-01,\n",
       "       -1.16781402e+00, -1.38920093e+00, -1.31281078e+00,  1.27672374e+00,\n",
       "        1.75057626e+00,  1.16711497e-01, -1.99885413e-01,  2.05917299e-01,\n",
       "        5.19942582e-01, -1.74589050e+00, -1.53928316e+00,  1.51831651e+00,\n",
       "        1.97897148e+00, -2.12825751e+00,  3.39845084e-02,  2.06493422e-01,\n",
       "        1.08776915e+00, -4.19553891e-02, -8.09007227e-01, -9.25250947e-01,\n",
       "       -2.59014678e+00,  4.73422170e-01, -4.36527848e-01,  6.82587504e-01,\n",
       "       -1.85074914e+00,  4.94845062e-01, -4.88709599e-01, -3.88166249e-01,\n",
       "       -1.03015494e+00, -3.66609216e-01, -3.23751718e-01, -5.33283472e-01,\n",
       "        4.27136362e-01,  1.08118033e+00, -1.48669696e+00,  3.56014252e-01,\n",
       "        2.79629922e+00, -1.23622704e+00, -1.64174929e-01, -1.47086251e+00,\n",
       "        1.58143115e+00,  1.05838931e+00, -1.01160181e+00, -4.25024778e-01,\n",
       "        1.61232853e+00, -1.52263224e+00,  1.13062046e-01,  5.90735078e-01,\n",
       "        4.40012306e-01, -4.50705826e-01,  1.13416851e+00,  8.54171336e-01,\n",
       "       -6.59295842e-02, -7.15631843e-01, -1.07511365e+00,  2.64986068e-01,\n",
       "        3.05627454e-02, -1.08632080e-01, -1.42356861e+00,  2.95716524e-01,\n",
       "       -1.19180894e+00,  1.44132829e+00,  9.17017281e-01, -3.84346813e-01,\n",
       "        8.09553042e-02,  9.62586880e-01, -1.65107918e+00,  8.50122750e-01,\n",
       "        1.24715105e-01,  7.27084458e-01,  8.35526943e-01,  5.95649540e-01,\n",
       "        8.92237306e-01,  9.44128036e-01,  9.53494310e-01,  2.39149094e-01,\n",
       "       -3.46839100e-01,  8.11719060e-01, -2.53364980e-01, -4.16776001e-01,\n",
       "       -4.40447658e-01, -2.69736916e-01,  2.21459651e+00, -2.08477870e-01,\n",
       "        2.19194368e-01, -1.79111019e-01, -1.24960266e-01,  2.92020172e-01,\n",
       "       -3.86599630e-01,  3.00838321e-01, -6.51146352e-01, -1.12784171e+00,\n",
       "        2.82266617e-01, -1.64740086e+00,  1.36118913e+00, -1.31577596e-01,\n",
       "        4.38636899e-01,  3.97034794e-01, -9.68338028e-02,  5.35271645e-01,\n",
       "       -3.40438008e-01,  1.19349980e+00,  8.84482384e-01, -9.53100383e-01,\n",
       "        6.77325130e-01,  1.10018253e+00,  1.98867631e+00,  9.34969246e-01,\n",
       "       -6.28965080e-01,  2.24321961e-01,  1.02897227e+00, -7.28636265e-01,\n",
       "        1.03731728e+00,  4.01689969e-02,  1.90642834e+00,  1.95857620e+00,\n",
       "        4.33307797e-01,  1.37705946e+00, -7.97773540e-01,  5.53292856e-02,\n",
       "        5.31977296e-01,  1.04529631e+00,  6.52483478e-02,  3.25846940e-01,\n",
       "        2.41412187e+00, -8.77476573e-01, -8.07970166e-01, -2.56135154e+00,\n",
       "        1.57897758e+00, -1.55040294e-01, -2.19022408e-02, -8.92740414e-02,\n",
       "        3.91896755e-01,  1.88351825e-01, -6.32129237e-02, -3.38229716e-01,\n",
       "       -1.26380849e+00,  2.29337320e-01, -4.09358680e-01, -1.29989994e+00,\n",
       "       -1.15136993e+00, -5.88552177e-01,  1.28446591e+00, -6.23228669e-01,\n",
       "       -3.25797349e-01, -5.97762652e-02,  9.54318941e-01,  2.57784426e-01,\n",
       "        1.52765378e-01, -1.09501839e+00, -2.40674421e-01, -1.16650093e+00,\n",
       "        4.74273592e-01, -8.27192247e-01,  6.97993100e-01,  3.10685426e-01,\n",
       "       -1.14136708e+00, -1.00300741e+00,  1.34333599e+00, -9.04537179e-03,\n",
       "        5.82610488e-01, -1.46386003e+00,  1.31530315e-01,  1.02361739e+00,\n",
       "        6.46525919e-01, -6.30293250e-01,  1.89047754e+00,  1.66255742e-01,\n",
       "       -6.57176375e-01, -1.25295413e+00, -7.86646903e-01,  9.85972762e-01,\n",
       "       -1.09053540e+00, -2.40266621e-01,  1.47770435e-01, -1.03659682e-01,\n",
       "        3.17959517e-01,  1.01614487e+00,  4.98095483e-01,  1.15987539e+00,\n",
       "        2.96045750e-01,  1.47720873e+00,  4.84158188e-01,  1.49757433e+00,\n",
       "       -2.12467045e-01, -1.28463602e+00, -1.43800294e+00,  1.52982986e+00,\n",
       "        7.30014920e-01, -1.25772405e+00, -1.97314179e+00, -1.03847075e+00,\n",
       "       -4.87198293e-01, -5.95309585e-02,  8.89419019e-01, -6.91514537e-02,\n",
       "       -1.15600741e+00,  1.49602604e+00, -1.08032376e-01, -8.28787506e-01,\n",
       "       -8.61413360e-01, -1.38377428e+00, -1.56305552e+00,  6.11172259e-01,\n",
       "       -1.51911283e+00, -5.40376961e-01,  9.51726615e-01,  1.87327611e+00,\n",
       "       -1.62011981e-01,  1.32046807e+00,  1.27648282e+00, -1.90225315e+00,\n",
       "       -7.85970449e-01, -8.37731779e-01,  1.28174022e-01, -8.03059757e-01,\n",
       "        1.79723978e+00,  6.81862310e-02, -7.89117336e-01, -4.41297263e-01,\n",
       "       -6.48118183e-03, -8.49354029e-01,  1.23916256e+00,  1.47496295e+00,\n",
       "       -9.41154301e-01, -9.43889797e-01,  1.41317689e+00, -1.01467943e+00,\n",
       "       -7.47414231e-01, -7.54630685e-01, -2.70236045e-01,  5.58124304e-01,\n",
       "        1.15483642e+00, -6.85728967e-01,  5.72516561e-01, -6.50790632e-01,\n",
       "        9.38523591e-01, -1.80641317e+00,  1.20883894e+00,  9.22269762e-01,\n",
       "        7.63556719e-01,  1.22118570e-01, -2.15249211e-01, -6.29514098e-01,\n",
       "        3.00535977e-01,  1.62860847e+00,  6.28349364e-01, -3.59538943e-01,\n",
       "       -2.12168276e-01,  1.06271601e+00, -5.15107512e-01, -2.38848567e+00,\n",
       "       -8.13606754e-02, -4.14605767e-01,  3.84651333e-01,  5.31889498e-01,\n",
       "        1.87339321e-01,  2.68736690e-01,  1.04947531e+00,  2.28987217e+00,\n",
       "       -2.04229236e+00, -2.33695790e-01,  9.74717975e-01,  1.15658772e+00,\n",
       "       -1.09255230e+00, -2.07330719e-01,  1.99974084e+00,  1.62285364e+00,\n",
       "       -1.93470812e+00, -1.03925444e-01, -2.74657428e-01, -5.66257477e-01,\n",
       "        1.49017304e-01, -2.00469121e-01,  1.41808137e-01,  6.80044651e-01,\n",
       "        8.06045294e-01, -7.17025757e-01, -2.47969413e+00, -2.04325628e+00,\n",
       "        8.17173004e-01, -8.41378793e-02, -1.69273987e-01,  4.52689677e-01,\n",
       "       -9.30449486e-01, -3.28092963e-01,  4.37065125e-01,  2.22144127e-01,\n",
       "       -2.66666174e-01,  3.59430909e-02,  9.77805316e-01, -1.89770412e+00,\n",
       "       -7.44954705e-01, -1.02237487e+00,  1.29395115e+00, -3.04555088e-01,\n",
       "        2.22194210e-01, -6.26022816e-02,  8.10895503e-01, -6.73094630e-01,\n",
       "       -2.38881752e-01,  1.90319335e+00,  1.83617473e+00,  1.66691601e+00,\n",
       "       -7.80625284e-01, -7.21733510e-01, -9.08510268e-01, -1.28409827e+00,\n",
       "       -3.39179128e-01, -6.42376125e-01,  7.94021010e-01, -1.02247149e-01,\n",
       "        6.52192056e-01, -2.36605930e+00, -5.72760284e-01, -1.87318635e+00,\n",
       "        1.58241844e+00,  6.93541944e-01,  7.13211894e-01, -1.09554040e+00,\n",
       "       -1.11543965e+00,  1.34052670e+00, -1.05493033e+00, -8.26678097e-01,\n",
       "       -1.55397043e-01,  1.41677880e+00, -1.21455872e+00,  3.08527023e-01,\n",
       "       -1.94505319e-01, -3.21533114e-01, -2.61715531e-01,  1.86391485e+00,\n",
       "       -2.28399825e+00, -4.73156214e-01, -1.65926647e+00, -1.61789849e-01,\n",
       "       -1.21072185e+00,  2.83962511e-03, -1.04649103e+00, -2.69256290e-02,\n",
       "        3.43180323e+00,  1.48834538e+00, -2.02972591e-01, -1.12972605e+00,\n",
       "        1.08766544e+00,  7.72737026e-01, -1.32099998e+00,  2.08503437e+00,\n",
       "        9.28462267e-01, -7.99584091e-01, -1.11165619e+00,  2.65342653e-01,\n",
       "       -1.42729127e+00, -7.39659250e-01, -6.09723508e-01,  1.07572579e+00,\n",
       "        7.27239192e-01, -1.44058478e+00, -3.64545286e-01, -5.73663354e-01,\n",
       "        5.81232846e-01, -6.85441375e-01, -2.39193812e-01, -1.25260627e+00,\n",
       "       -3.59181106e-01, -4.28612202e-01,  6.03468565e-04,  3.49551946e-01,\n",
       "        7.87775457e-01, -2.21945703e-01,  8.19559276e-01, -3.32723737e-01,\n",
       "        2.95094013e-01, -8.78945529e-01, -1.66532373e+00, -4.35750484e-01,\n",
       "       -1.95490074e+00,  6.73394501e-02, -2.25596952e+00,  6.54034093e-02,\n",
       "        1.33001530e+00, -7.03250244e-03,  3.36472958e-01, -4.94155288e-01,\n",
       "       -6.60799801e-01, -8.06817472e-01,  1.94614983e+00, -3.05690706e-01,\n",
       "       -7.49526918e-01,  6.32624090e-01, -9.23020601e-01, -1.21979523e+00,\n",
       "       -2.47278380e+00, -3.05201322e-01,  5.42886138e-01,  3.85562420e-01,\n",
       "        1.09386277e+00,  1.01286970e-01, -9.21780050e-01, -9.71993446e-01,\n",
       "        5.79409480e-01, -4.36236739e-01, -2.11944461e+00, -5.53722143e-01,\n",
       "       -1.47783136e+00, -3.45770669e+00,  1.28975451e-01,  2.41018578e-01,\n",
       "       -1.09231162e+00, -1.66494417e+00,  1.86570182e-01, -5.60763776e-01,\n",
       "       -1.64243197e+00, -2.16945410e-02, -7.11264491e-01,  1.21844482e+00,\n",
       "        7.30718851e-01, -5.18217564e-01, -1.08700836e+00, -1.43334603e+00,\n",
       "       -2.35511556e-01,  3.89515132e-01,  1.77680540e+00,  4.73334432e-01,\n",
       "        5.57026863e-01, -5.70907354e-01, -1.74121571e+00,  1.88750172e+00,\n",
       "       -2.82303071e+00, -2.78924346e-01,  8.17286670e-01,  4.57505435e-01,\n",
       "       -8.41917843e-02, -2.19926417e-01,  5.93775094e-01,  9.64688361e-01,\n",
       "       -1.04595506e+00,  2.31423154e-01,  1.62093520e+00,  1.97147095e+00,\n",
       "       -5.38169801e-01,  2.80643433e-01, -1.86860967e+00,  2.04035020e+00,\n",
       "       -7.44586349e-01,  9.90053296e-01, -3.05107832e-01,  6.28862798e-01,\n",
       "        7.58490503e-01, -7.57325709e-01,  9.43315804e-01, -2.25631192e-01,\n",
       "       -5.48828959e-01,  5.66059411e-01,  2.26565933e+00,  2.15927526e-01,\n",
       "        1.62069887e-01,  2.34143949e+00, -2.21133813e-01,  7.90638149e-01,\n",
       "       -8.63701522e-01, -6.00042641e-01, -3.34740222e-01, -1.23544455e+00,\n",
       "        3.80708218e-01, -6.65867925e-01,  5.65738559e-01,  1.30741286e+00,\n",
       "       -1.08857477e+00, -8.83503482e-02, -9.11819264e-02, -1.17029166e+00,\n",
       "       -3.04026127e-01, -6.40801668e-01,  9.80026960e-01, -1.96160153e-01,\n",
       "       -1.40177250e-01,  3.89508963e-01, -1.11770749e+00, -5.88545084e-01,\n",
       "        3.41422707e-01, -1.80352330e+00,  5.88649750e-01, -2.39988372e-01,\n",
       "       -3.34026694e-01,  3.65288556e-01,  1.21022594e+00,  4.35767621e-02,\n",
       "       -7.87929952e-01, -3.30936819e-01,  6.31935120e-01,  2.25202990e+00,\n",
       "       -1.79444015e-01,  1.34380984e+00,  2.20016334e-02, -6.54831529e-01,\n",
       "       -1.29172480e+00,  4.12431419e-01,  1.08982778e+00, -1.02522385e+00,\n",
       "       -9.89030421e-01,  2.98707094e-02,  6.86006472e-02,  6.35886967e-01,\n",
       "       -1.88678429e-01,  2.31121612e+00,  1.82870460e+00,  1.62257063e+00,\n",
       "       -8.93081248e-01, -5.45225441e-01,  6.05285287e-01,  1.14683114e-01,\n",
       "       -1.07541192e+00,  2.26421982e-01, -2.11215213e-01,  9.61476207e-01,\n",
       "        9.36741471e-01,  6.15938604e-01,  9.83845711e-01, -1.23857641e+00,\n",
       "       -7.78533071e-02, -2.10944861e-01, -7.09912241e-01,  6.93786323e-01,\n",
       "       -2.33510852e-01, -7.15139568e-01, -1.95113510e-01,  1.32329330e-01,\n",
       "        5.92230678e-01,  3.89861643e-01,  9.21242118e-01,  1.22717273e+00,\n",
       "       -7.33778298e-01, -5.91099977e-01,  3.79654914e-01,  6.64594650e-01,\n",
       "        2.67210066e-01, -5.78147590e-01, -2.20282507e+00, -3.82532507e-01,\n",
       "        1.23049581e+00,  1.59429073e+00,  1.17203021e+00, -9.12688196e-01,\n",
       "        2.73042768e-01, -1.42787933e-01,  1.58229545e-01,  9.65259492e-01,\n",
       "        1.89344119e-02,  2.35075280e-01,  2.00047827e+00,  8.27597797e-01,\n",
       "        2.39396229e-01, -8.76604497e-01, -1.48456895e+00,  2.28531837e+00,\n",
       "        1.99264109e-01,  1.15641570e+00, -4.95537430e-01, -1.12297976e+00,\n",
       "        7.22341776e-01, -7.98039496e-01, -4.98327315e-01, -5.72249413e-01,\n",
       "        1.18535650e+00,  3.41672927e-01, -1.44664574e+00, -9.52250510e-02,\n",
       "       -1.04596210e+00, -3.50737602e-01, -1.07681118e-01,  2.91550487e-01,\n",
       "        5.27292609e-01,  1.48125577e+00, -1.07788932e+00, -7.94447064e-01,\n",
       "        9.15352464e-01,  2.00361419e+00, -7.00432584e-02,  8.04802597e-01,\n",
       "        3.04504722e-01, -7.46873319e-01,  1.70763552e+00, -2.71426141e-01,\n",
       "       -2.17976674e-01,  4.71229821e-01,  3.72788548e-01,  1.01161664e-02,\n",
       "        1.57123923e+00,  1.35557055e+00, -9.43416178e-01,  6.78814203e-02,\n",
       "       -1.26308489e+00, -1.28906918e+00,  9.92235661e-01, -5.26162863e-01,\n",
       "       -1.05896676e+00, -6.91292167e-01, -1.91224945e+00,  1.43212926e+00,\n",
       "       -1.24140227e+00, -1.28373671e+00,  1.80484772e+00, -6.32498264e-01,\n",
       "       -1.91120124e+00, -9.32015121e-01,  3.00666285e+00, -1.47499114e-01,\n",
       "       -2.40090773e-01, -5.57798505e-01,  8.58503878e-01,  5.03928542e-01,\n",
       "       -9.94570628e-02,  1.68090713e+00,  3.51123661e-01, -2.62357116e+00,\n",
       "        3.06155354e-01, -3.08664024e-01, -3.95907819e-01,  1.59692109e+00,\n",
       "        6.89957976e-01,  3.30511838e-01,  7.89149199e-03,  2.55458069e+00,\n",
       "        2.13393345e-01, -6.27953589e-01, -3.33387882e-01,  2.56809145e-01,\n",
       "       -6.76439822e-01, -4.63077724e-01,  4.17380035e-01,  7.94890463e-01,\n",
       "        7.10194290e-01, -1.67418826e+00,  1.35563278e+00,  1.76922977e+00,\n",
       "       -8.52740526e-01, -1.36544049e+00,  6.99310362e-01,  8.27773809e-01,\n",
       "        2.03897405e+00,  7.45837510e-01,  1.93432212e+00, -4.72987711e-01,\n",
       "        1.31946671e+00,  1.63873702e-01,  1.79158092e+00,  3.49307060e-01,\n",
       "       -1.06611109e+00,  1.82719141e-01,  1.06146848e+00, -1.36238530e-01,\n",
       "        9.11002696e-01, -9.27502036e-01, -1.51241374e+00,  9.60440487e-02,\n",
       "       -3.47733438e-01, -1.53828263e-01,  1.06097674e+00,  1.35018361e+00,\n",
       "        3.95165026e-01,  7.41313323e-02,  9.90843952e-01, -5.52256584e-01,\n",
       "       -2.02006745e+00, -1.41280866e+00,  1.00920632e-01,  4.52586830e-01,\n",
       "       -9.59498346e-01, -2.34406292e-01, -4.56817508e-01,  5.30432403e-01,\n",
       "        5.47778666e-01,  1.45950258e+00,  1.16169071e+00, -1.38911411e-01,\n",
       "       -8.71258199e-01,  1.95888066e+00,  2.46057361e-01, -1.71593964e+00,\n",
       "        3.28693509e-01, -9.40493405e-01, -4.71785694e-01, -3.24560791e-01,\n",
       "       -2.83038139e-01,  5.94583154e-01, -1.44840360e-01, -8.40553284e-01,\n",
       "       -1.21437860e+00,  2.70914340e+00, -1.24117231e+00, -2.77256250e-01,\n",
       "        2.47550875e-01,  4.60584521e-01,  1.07246315e+00,  4.10517007e-02,\n",
       "       -1.16229355e+00, -1.81435898e-01, -9.51748431e-01,  1.28790885e-01,\n",
       "        1.39018869e+00, -1.46724641e+00,  6.58867955e-01,  1.31102824e+00,\n",
       "       -1.16260231e+00, -6.99459851e-01, -3.49766791e-01, -6.93039000e-01,\n",
       "        2.97099531e-01,  4.90965128e-01,  6.47566140e-01,  1.10029483e+00,\n",
       "        4.47302610e-01,  3.47919911e-01,  1.04525256e+00,  5.68409622e-01,\n",
       "        4.04267699e-01,  6.61087751e-01, -1.38807631e+00,  1.48831117e+00,\n",
       "        1.16275227e+00, -7.11356699e-02, -1.40631342e+00,  8.95378232e-01,\n",
       "       -1.28717291e+00,  1.01117826e+00,  1.43899918e-01, -7.28314281e-01,\n",
       "        1.44928432e+00,  1.77420628e+00, -9.80717778e-01,  6.08290508e-02,\n",
       "        5.84570318e-02,  1.06198061e+00, -2.63116241e-01, -2.12824136e-01,\n",
       "        7.48261690e-01, -6.71536624e-02, -1.30370390e+00, -1.73636273e-01,\n",
       "       -6.42060459e-01, -1.05541718e+00, -2.36035988e-01,  4.99645472e-01,\n",
       "        9.45754796e-02, -1.73521507e+00,  4.69396144e-01,  2.22403988e-01,\n",
       "        8.81660044e-01, -1.30292094e+00,  6.83303297e-01, -1.09297788e+00,\n",
       "       -1.08783729e-01, -1.43018568e+00,  1.42697275e+00,  1.13488130e-01,\n",
       "       -3.78126770e-01,  9.00147378e-01,  8.25983956e-02,  1.32345498e+00,\n",
       "       -7.43930101e-01, -9.99173403e-01,  7.32415080e-01, -5.61270893e-01,\n",
       "       -6.66790962e-01, -3.79576862e-01,  5.11444092e-01, -2.70559788e-01,\n",
       "       -1.13173135e-01, -2.04166579e+00, -6.04245543e-01, -1.38992751e+00,\n",
       "       -5.68254292e-01, -7.71291852e-01,  1.43423009e+00, -1.04272449e+00,\n",
       "        9.90466058e-01, -9.22915161e-01,  2.98679614e+00,  8.46507013e-01,\n",
       "       -5.05026937e-01,  8.53367090e-01, -1.41032517e-01,  5.58169484e-01,\n",
       "        1.22016180e+00, -1.24100864e+00, -4.68094707e-01,  1.35237980e+00,\n",
       "       -7.45220423e-01,  8.00430477e-01,  5.51953077e-01,  7.31023073e-01,\n",
       "        3.23626518e-01,  1.21344161e+00,  1.94034946e+00, -1.06948423e+00,\n",
       "       -3.38838786e-01, -7.69310832e-01,  1.32444501e+00, -1.12338686e+00,\n",
       "       -5.68446815e-01, -3.20985138e-01, -7.41296828e-01,  7.26893961e-01,\n",
       "       -9.32117939e-01, -9.77265686e-02, -2.40860963e+00,  1.15291107e+00,\n",
       "       -6.86733201e-02,  2.24257857e-01, -1.28481615e+00, -6.55889273e-01,\n",
       "       -1.57636249e+00,  1.37354687e-01, -2.35932931e-01,  1.23014534e+00,\n",
       "        7.64896628e-03, -3.06014538e-01,  7.25267828e-01,  5.88851511e-01,\n",
       "       -6.13433421e-02, -2.26363778e+00, -1.36134732e+00, -5.88285387e-01,\n",
       "        1.45216799e+00,  4.71722484e-01,  1.12972999e+00, -6.96574599e-02,\n",
       "       -1.13417602e+00,  1.25723600e-01,  1.04356742e+00,  1.72624421e+00,\n",
       "       -8.68394971e-01,  4.43262339e-01, -1.00600564e+00, -2.85671711e-01],\n",
       "      dtype=float32)"
      ]
     },
     "execution_count": 25,
     "metadata": {},
     "output_type": "execute_result"
    }
   ],
   "source": [
    "#use explicit definition of the dtype during array creation\n",
    "# Common traps default to float64: linspace, ones, randn-style outputs, Python floats.\n",
    "rng = np.random.default_rng(0) #This method create a new generator instance with the seed 0. It gives you an isolated, reproducible random stream \n",
    "rng.standard_normal(1000, dtype=np.float32) #Draws 1,000 samples from a standard normal 𝑁(0,1) using that generator. \n",
    "# Returns a float32 array directly (no post-cast)"
   ]
  },
  {
   "cell_type": "code",
   "execution_count": 26,
   "id": "7c59b7e2",
   "metadata": {},
   "outputs": [
    {
     "name": "stdout",
     "output_type": "stream",
     "text": [
      "[1 2 3 4 5 6]\n",
      "[1. 2. 3. 4. 5. 6.]\n",
      "[1 0 2 0 3 0 4 0 5 0 6 0]\n",
      "False\n"
     ]
    }
   ],
   "source": [
    "#Casting - Conversion vs reinterpreting\n",
    "#Convert values: astype(new_dtype, copy=False); returns view if already same dtype.\n",
    "#Reinterpret bytes: .view(new_dtype); no value change, only how bytes are read.\n",
    "\n",
    "P = np.array([1, 2, 3, 4, 5, 6], dtype=np.int64)\n",
    "Q = P.astype(np.float32)\n",
    "R = P.view(np.uint32)\n",
    "print(P)\n",
    "print(Q)\n",
    "print(R)\n",
    "#Safe/unsafe casting flags appear in many APIs: 'no' < 'equiv' < 'safe' < 'same_kind' < 'unsafe'.\n",
    "#Check feasibility: np.can_cast(from_dtype, to_dtype, casting='safe').\n",
    "print(np.can_cast(np.uint32, np.bool_))"
   ]
  },
  {
   "cell_type": "code",
   "execution_count": 27,
   "id": "c159b1dc",
   "metadata": {},
   "outputs": [
    {
     "name": "stdout",
     "output_type": "stream",
     "text": [
      "int64\n",
      "bool\n"
     ]
    }
   ],
   "source": [
    "#Boolean Behavior\n",
    "#Comparisons yield bool arrays.\n",
    "#In arithmetic, bool → integers 0/1, then usual promotion.\n",
    "S = np.array([True, False], dtype=bool)\n",
    "print((S + 2).dtype ) #The bool array is converted to the type int64, and then 2 is added to the array.\n",
    "#It becomes 1, 0, 2, and since 2 is a python int, the array type defaults to np.int_, which is int64 on 64 bit systems and int32 on 32 bit systems\n",
    "print((S & (S==1)).dtype) #In this one, it's converted to booleans, and the type is displayed"
   ]
  },
  {
   "cell_type": "code",
   "execution_count": 28,
   "id": "a2068718",
   "metadata": {},
   "outputs": [
    {
     "data": {
      "text/plain": [
       "array([0], dtype=uint8)"
      ]
     },
     "execution_count": 28,
     "metadata": {},
     "output_type": "execute_result"
    }
   ],
   "source": [
    "#NaN/±inf exist only in floating and complex dtypes.\n",
    "#Introducing np.nan or np.inf into integer arrays forces upcast to float.\n",
    "#NaN means \"Not a Number\", and inf is infinity, which can be +inf or -inf\n",
    "T = np.array([1, 2, 3], dtype=np.int32)\n",
    "T = T.astype(np.float32)\n",
    "T[0] = np.nan\n",
    "#np.result_type(*args): “If I did an elementwise op on these, what dtype would NumPy use?”\n",
    "#np.promote_types(t1, t2): “Smallest dtype both can be safely cast to.”\n",
    "\n",
    "#Same kind → widen width: int32 + int64 -> int64, float32 + float64 -> float64.\n",
    "#Integer with float → float, usually float64 if a Python float is involved.\n",
    "#Keep float32 by avoiding Python float: use np.float32(1.0) or arrays of float32.\n",
    "#Any complex operand → complex; real part and imag part width follow the widest real.\n",
    "#Signed + unsigned → a wider integer if it can represent both ranges; if not, expect upcast to float or object. Avoid mixing signed and unsigned.\n",
    "#Array + scalar: Python scalar types influence promotion (1.0 is 64-bit). Prefer NumPy scalars (np.float32(1)).\n",
    "\n",
    "#Examples to memorize\n",
    "np.ones(3, np.float32) + np.ones(3, np.float32)         # float32\n",
    "np.ones(3, np.float32) + 1                              # float32 (int -> safely cast)\n",
    "np.ones(3, np.float32) + 1.0                            # often float64 (Python float)\n",
    "np.array([1], np.int32) + np.array([1], np.float32)     # often float64\n",
    "np.array([1], np.int32) + np.array([1], np.int64)       # int64\n",
    "np.array([1], np.uint8) + np.array([255], np.uint8)     # uint8 overflow wraps (mod 256)"
   ]
  },
  {
   "cell_type": "code",
   "execution_count": 29,
   "id": "2182abe2",
   "metadata": {},
   "outputs": [
    {
     "name": "stdout",
     "output_type": "stream",
     "text": [
      "0\n"
     ]
    },
    {
     "name": "stderr",
     "output_type": "stream",
     "text": [
      "/var/folders/z5/pxc_rhz17ns8zfngcrfn6rmc0000gn/T/ipykernel_44201/1014860645.py:3: RuntimeWarning: overflow encountered in scalar add\n",
      "  print(np.uint8(255) + np.uint8(1))\n"
     ]
    }
   ],
   "source": [
    "#Integers wrap on overflow; no warning by default. Use a wider dtype if near limits, or switch to float.\n",
    "#In this case, what overflow means is when the sum of 2 scalar values in numpy becomes larger than the size of the data type that you're adding\n",
    "print(np.uint8(255) + np.uint8(1))\n",
    "#Unsigned wrap: uint8: 255+1→0\n",
    "#Signed wrap (two’s complement): int8: 127+1→−128: int32: 2147483647 + 1 → −2147483648\n",
    "#Float overflow is different: it yields inf (often with a warning). Integers never produce inf."
   ]
  },
  {
   "cell_type": "code",
   "execution_count": 30,
   "id": "32cf6d6e",
   "metadata": {},
   "outputs": [],
   "source": [
    "#dtype may show < little-endian or > big-endian. Use native: np.dtype('float32').newbyteorder('=').\n",
    "#Only care when reading external binary formats."
   ]
  },
  {
   "cell_type": "code",
   "execution_count": 31,
   "id": "f8fd0cb4",
   "metadata": {},
   "outputs": [
    {
     "name": "stdout",
     "output_type": "stream",
     "text": [
      "[1.+2.j 3.+4.j]\n",
      "[1. 3.] [2. 4.]\n",
      "[2.236068 5.      ]\n",
      "[1.1071488 0.9272952]\n",
      "[1. 3.]\n"
     ]
    },
    {
     "name": "stderr",
     "output_type": "stream",
     "text": [
      "/var/folders/z5/pxc_rhz17ns8zfngcrfn6rmc0000gn/T/ipykernel_44201/2724410327.py:7: ComplexWarning: Casting complex values to real discards the imaginary part\n",
      "  print(U.astype(np.float32))      # drops imaginary part (same-kind cast, not “safe”)\n"
     ]
    }
   ],
   "source": [
    "#Utilities\n",
    "U = np.array([1+2j, 3+4j], dtype=np.complex64)\n",
    "print(U)\n",
    "print(U.real, U.imag)          # views\n",
    "print(np.abs(U))              # magnitude, float\n",
    "print(np.angle(U))               # phase\n",
    "print(U.astype(np.float32))      # drops imaginary part (same-kind cast, not “safe”)"
   ]
  },
  {
   "cell_type": "code",
   "execution_count": null,
   "id": "9974de33",
   "metadata": {},
   "outputs": [],
   "source": [
    "#Inspecting and enforcing consistency\n",
    "V = np.asarray([1, 2, 3, 4, 5, 6], dtype=np.float32)   # ensure float32\n",
    "assert V.dtype == np.float32\n",
    "#itemsize controls memory. float32 halves memory vs float64.\n",
    "#CPU vectorization can favor native width (float64 on some CPUs), but for ML pipelines float32 is standard.\n",
    "#Avoid repeated casts inside loops. Cast once at load time."
   ]
  },
  {
   "cell_type": "code",
   "execution_count": 34,
   "id": "6df9fac7",
   "metadata": {},
   "outputs": [
    {
     "name": "stdout",
     "output_type": "stream",
     "text": [
      "(array([dtype('float32')], dtype=object), array([1]))\n"
     ]
    }
   ],
   "source": [
    "V.dtype, V.itemsize, V.nbytes\n",
    "print(np.unique(V.dtype, return_counts=True)) #finds distinct values and returns them in a sorted list\n",
    "np.set_printoptions(precision=6, suppress=True)"
   ]
  },
  {
   "cell_type": "code",
   "execution_count": null,
   "id": "0a881f32",
   "metadata": {},
   "outputs": [],
   "source": [
    "\"\"\"\n",
    " - Always set dtype on creation.\n",
    " - Use np.result_type when mixing arrays.\n",
    " - Avoid mixing signed and unsigned.\n",
    " - Avoid Python floats when holding float32 pipelines.\n",
    " - Know limits with iinfo/finfo. Avoid integer overflow.\n",
    " - Use astype(copy=False) and .view() correctly.\n",
    "\"\"\""
   ]
  },
  {
   "cell_type": "code",
   "execution_count": 41,
   "id": "d3bf67b9",
   "metadata": {},
   "outputs": [
    {
     "name": "stdout",
     "output_type": "stream",
     "text": [
      "bool\n",
      "1\n",
      "uint16\n",
      "2\n",
      "float32\n",
      "4\n",
      "complex128\n",
      "16\n",
      "[0.  0.5 1. ]\n",
      "[0.  0.5 1. ]\n",
      "[0.  0.5 1. ]\n",
      "float32\n"
     ]
    }
   ],
   "source": [
    "#Create these and report dtype, itemsize:\n",
    "#a) np.array([True, False])\n",
    "A = np.array([True, False], dtype=bool)\n",
    "print(A.dtype)\n",
    "print(A.itemsize)\n",
    "#b) np.arange(5, dtype=np.uint16)\n",
    "B = np.arange(5, dtype=np.uint16)\n",
    "print(B.dtype)\n",
    "print(B.itemsize)\n",
    "#c) np.linspace(-1, 1, 11, dtype=np.float32)\n",
    "C = np.linspace(-1, 1, 11, dtype=np.float32)\n",
    "print(C.dtype)\n",
    "print(C.itemsize)\n",
    "#d) np.array([1+2j, 3+0j], dtype=np.complex128)\n",
    "D = np.array([1+2j, 3+0j], dtype=np.complex128)\n",
    "print(D.dtype)\n",
    "print(D.itemsize)\n",
    "#Show three ways to obtain a float32 vector [0, 0.5, 1.0] without post-casting.\n",
    "E = np.linspace(0, 1, 3, dtype=np.float32)\n",
    "print(E)\n",
    "F = np.array([0, 0.5, 1.0], dtype=np.float32)\n",
    "print(F)\n",
    "G = np.arange(3, dtype=np.float32) * np.float32(0.5)\n",
    "print(G)\n",
    "#Given two arrays a:int32, b:float32, make their sum remain float32 despite Python floats.\n",
    "H = np.array([1, 2, 3, 4, 5, 6], dtype=np.int32)\n",
    "I = np.array([7, 8, 9, 10, 11, 12], dtype=np.float32)\n",
    "J = np.array(H + I, dtype=np.float32)\n",
    "print(J.dtype)\n",
    "#Demonstrate integer overflow with uint8 and then fix it by promoting dtype.\n",
    "\n",
    "#Use np.promote_types to find the common dtype for int16 and uint32. Explain the result in one sentence.\n",
    "\n",
    "#Reinterpret the bytes of a float32 array as int32 with .view, then restore the original view.\n",
    "\n",
    "#Build a small complex array and extract magnitude and phase as float32.\n",
    "\n",
    "#Load random float64 data and convert once to float32. Verify memory drop via nbytes."
   ]
  }
 ],
 "metadata": {
  "kernelspec": {
   "display_name": ".venv",
   "language": "python",
   "name": "python3"
  },
  "language_info": {
   "codemirror_mode": {
    "name": "ipython",
    "version": 3
   },
   "file_extension": ".py",
   "mimetype": "text/x-python",
   "name": "python",
   "nbconvert_exporter": "python",
   "pygments_lexer": "ipython3",
   "version": "3.11.4"
  }
 },
 "nbformat": 4,
 "nbformat_minor": 5
}
