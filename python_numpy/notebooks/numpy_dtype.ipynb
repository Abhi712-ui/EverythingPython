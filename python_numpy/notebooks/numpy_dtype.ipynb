{
 "cells": [
  {
   "cell_type": "code",
   "execution_count": 1,
   "id": "dac5a0f9",
   "metadata": {},
   "outputs": [
    {
     "name": "stdout",
     "output_type": "stream",
     "text": [
      "int64, 8, 48, (24, 8)\n"
     ]
    }
   ],
   "source": [
    "import numpy as np\n",
    "# a dtype is for determining things like storage and semantics per element - kind, width, and byte order\n",
    "# for inspecting things:\n",
    "A = np.array(\n",
    "    [\n",
    "        [1, 2, 3], \n",
    "        [4, 5, 6]\n",
    "    ]\n",
    ")\n",
    "print(f\"{A.dtype}, {A.itemsize}, {A.nbytes}, {A.strides}\")"
   ]
  },
  {
   "cell_type": "code",
   "execution_count": 4,
   "id": "0c6727c3",
   "metadata": {},
   "outputs": [
    {
     "name": "stdout",
     "output_type": "stream",
     "text": [
      "Machine parameters for int32\n",
      "---------------------------------------------------------------\n",
      "min = -2147483648\n",
      "max = 2147483647\n",
      "---------------------------------------------------------------\n",
      "\n",
      "Machine parameters for float32\n",
      "---------------------------------------------------------------\n",
      "precision =   6   resolution = 1.0000000e-06\n",
      "machep =    -23   eps =        1.1920929e-07\n",
      "negep =     -24   epsneg =     5.9604645e-08\n",
      "minexp =   -126   tiny =       1.1754944e-38\n",
      "maxexp =    128   max =        3.4028235e+38\n",
      "nexp =        8   min =        -max\n",
      "smallest_normal = 1.1754944e-38   smallest_subnormal = 1.4012985e-45\n",
      "---------------------------------------------------------------\n",
      "\n"
     ]
    }
   ],
   "source": [
    "# For information\n",
    "print(np.iinfo(np.int32))\n",
    "print(np.finfo(np.float32))"
   ]
  },
  {
   "cell_type": "code",
   "execution_count": null,
   "id": "d702ce61",
   "metadata": {},
   "outputs": [
    {
     "name": "stdout",
     "output_type": "stream",
     "text": [
      "[ True False  True], 1\n",
      "[1 2 3 4 5 6], 1\n",
      "[1 2 3 4 5 6], 2\n",
      "[1 2 3 4 5 6], 4\n",
      "[1 2 3 4 5 6], 8\n"
     ]
    }
   ],
   "source": [
    "#booleans\n",
    "B = np.array([True, False, True], dtype=np.bool_)\n",
    "print(f\"{B}, {B.itemsize}\") # Booleans are stored as one byte\n",
    "\n",
    "#Integers\n",
    "C = np.array([1, 2, 3, 4, 5, 6], dtype=np.int8)\n",
    "D = np.array([1, 2, 3, 4, 5, 6], dtype=np.int16)\n",
    "E = np.array([1, 2, 3, 4, 5, 6], dtype=np.int32)\n",
    "F = np.array([1, 2, 3, 4, 5, 6], dtype=np.int64)\n",
    "print(f\"{C}, {C.itemsize}\")\n",
    "print(f\"{D}, {D.itemsize}\")\n",
    "print(f\"{E}, {E.itemsize}\")\n",
    "print(f\"{F}, {F.itemsize}\")"
   ]
  },
  {
   "cell_type": "code",
   "execution_count": null,
   "id": "7c0c52a5",
   "metadata": {},
   "outputs": [
    {
     "name": "stdout",
     "output_type": "stream",
     "text": [
      "[1 2 3 4 5 6], 1\n",
      "[1 2 3 4 5 6], 2\n",
      "[1 2 3 4 5 6], 4\n",
      "[1 2 3 4 5 6], 8\n"
     ]
    }
   ],
   "source": [
    "#Unisigned Integers\n",
    "# data type in computer science that stores only non-negative whole numbers (zero and positive numbers), \n",
    "# with a range that extends from 0 up to a maximum value determined by the number of bits used\n",
    "G = np.array([1, 2, 3, 4, 5, 6], dtype=np.uint8)\n",
    "H = np.array([1, 2, 3, 4, 5, 6], dtype=np.uint16)\n",
    "I = np.array([1, 2, 3, 4, 5, 6], dtype=np.uint32)\n",
    "J = np.array([1, 2, 3, 4, 5, 6], dtype=np.uint64)\n",
    "print(f\"{G}, {G.itemsize}\")\n",
    "print(f\"{H}, {H.itemsize}\")\n",
    "print(f\"{I}, {I.itemsize}\")\n",
    "print(f\"{J}, {J.itemsize}\")"
   ]
  },
  {
   "cell_type": "code",
   "execution_count": null,
   "id": "fdcd8a65",
   "metadata": {},
   "outputs": [
    {
     "name": "stdout",
     "output_type": "stream",
     "text": [
      "[1. 2. 3. 4. 5.]\n",
      "[1. 2. 3. 4. 5.]\n",
      "[1. 2. 3. 4. 5.]\n"
     ]
    }
   ],
   "source": [
    "#Default for float is 64, but the ML default is 32\n",
    "K = np.array([1, 2, 3, 4, 5], dtype=np.float16)\n",
    "L = np.array([1, 2, 3, 4, 5], dtype=np.float32)\n",
    "M = np.array([1, 2, 3, 4, 5], dtype=np.float64)\n",
    "print(K)\n",
    "print(L)\n",
    "print(M)"
   ]
  },
  {
   "cell_type": "code",
   "execution_count": 13,
   "id": "5704daa9",
   "metadata": {},
   "outputs": [
    {
     "name": "stdout",
     "output_type": "stream",
     "text": [
      "8\n",
      "16\n"
     ]
    }
   ],
   "source": [
    "#Complex\n",
    "N = np.array([1 + 2j], dtype=np.complex64)\n",
    "O = np.array([1 + 2j], dtype=np.complex128)\n",
    "print(N.itemsize)\n",
    "print(O.itemsize)"
   ]
  },
  {
   "cell_type": "code",
   "execution_count": null,
   "id": "4d5e42d5",
   "metadata": {},
   "outputs": [],
   "source": [
    "#use explicit definition of the dtype during array creation\n",
    "# Common traps default to float64: linspace, ones, randn-style outputs, Python floats.\n",
    "rng = np.random.default_rng(0) #This method create a new generator instance with the seed 0. It gives you an isolated, reproducible random stream \n",
    "rng.standard_normal(1000, dtype=np.float32) #Draws 1,000 samples from a standard normal 𝑁(0,1) using that generator. \n",
    "# Returns a float32 array directly (no post-cast)"
   ]
  },
  {
   "cell_type": "code",
   "execution_count": 15,
   "id": "7c59b7e2",
   "metadata": {},
   "outputs": [
    {
     "name": "stdout",
     "output_type": "stream",
     "text": [
      "[1 2 3 4 5 6]\n",
      "[1. 2. 3. 4. 5. 6.]\n",
      "[1 0 2 0 3 0 4 0 5 0 6 0]\n",
      "False\n"
     ]
    }
   ],
   "source": [
    "#Casting - Conversion vs reinterpreting\n",
    "#Convert values: astype(new_dtype, copy=False); returns view if already same dtype.\n",
    "#Reinterpret bytes: .view(new_dtype); no value change, only how bytes are read.\n",
    "\n",
    "P = np.array([1, 2, 3, 4, 5, 6], dtype=np.int64)\n",
    "Q = P.astype(np.float32)\n",
    "R = P.view(np.uint32)\n",
    "print(P)\n",
    "print(Q)\n",
    "print(R)\n",
    "#Safe/unsafe casting flags appear in many APIs: 'no' < 'equiv' < 'safe' < 'same_kind' < 'unsafe'.\n",
    "#Check feasibility: np.can_cast(from_dtype, to_dtype, casting='safe').\n",
    "print(np.can_cast(np.uint32, np.bool_))"
   ]
  },
  {
   "cell_type": "code",
   "execution_count": null,
   "id": "c159b1dc",
   "metadata": {},
   "outputs": [
    {
     "name": "stdout",
     "output_type": "stream",
     "text": [
      "int64\n",
      "bool\n"
     ]
    }
   ],
   "source": [
    "#Boolean Behavior\n",
    "#Comparisons yield bool arrays.\n",
    "#In arithmetic, bool → integers 0/1, then usual promotion.\n",
    "S = np.array([True, False], dtype=bool)\n",
    "print((S + 2).dtype ) #The bool array is converted to the type int64, and then 2 is added to the array.\n",
    "#It becomes 1, 0, 2, and since 2 is a python int, the array type defaults to np.int_, which is int64 on 64 bit systems and int32 on 32 bit systems\n",
    "print((S & (S==1)).dtype) #In this one, it's converted to booleans, and the type is displayed"
   ]
  },
  {
   "cell_type": "code",
   "execution_count": null,
   "id": "a2068718",
   "metadata": {},
   "outputs": [],
   "source": [
    "#NaN/±inf exist only in floating and complex dtypes.\n",
    "#Introducing np.nan or np.inf into integer arrays forces upcast to float.\n",
    "#NaN means \"Not a Number\", and inf is infinity, which can be +inf or -inf\n",
    "T = np.array([1, 2, 3], dtype=np.int32)\n",
    "T = T.astype(np.float32)\n",
    "T[0] = np.nan\n",
    "#np.result_type(*args): “If I did an elementwise op on these, what dtype would NumPy use?”\n",
    "#np.promote_types(t1, t2): “Smallest dtype both can be safely cast to.”\n",
    "\n",
    "#Same kind → widen width: int32 + int64 -> int64, float32 + float64 -> float64.\n",
    "#Integer with float → float, usually float64 if a Python float is involved.\n",
    "#Keep float32 by avoiding Python float: use np.float32(1.0) or arrays of float32.\n",
    "#Any complex operand → complex; real part and imag part width follow the widest real.\n",
    "#Signed + unsigned → a wider integer if it can represent both ranges; if not, expect upcast to float or object. Avoid mixing signed and unsigned.\n",
    "#Array + scalar: Python scalar types influence promotion (1.0 is 64-bit). Prefer NumPy scalars (np.float32(1)).\n",
    "\n",
    "#Examples to memorize\n",
    "np.ones(3, np.float32) + np.ones(3, np.float32)         # float32\n",
    "np.ones(3, np.float32) + 1                              # float32 (int -> safely cast)\n",
    "np.ones(3, np.float32) + 1.0                            # often float64 (Python float)\n",
    "np.array([1], np.int32) + np.array([1], np.float32)     # often float64\n",
    "np.array([1], np.int32) + np.array([1], np.int64)       # int64\n",
    "np.array([1], np.uint8) + np.array([255], np.uint8)     # uint8 overflow wraps (mod 256)"
   ]
  },
  {
   "cell_type": "code",
   "execution_count": null,
   "id": "2182abe2",
   "metadata": {},
   "outputs": [],
   "source": [
    "#Integers wrap on overflow; no warning by default. Use a wider dtype if near limits, or switch to float."
   ]
  }
 ],
 "metadata": {
  "kernelspec": {
   "display_name": ".venv",
   "language": "python",
   "name": "python3"
  },
  "language_info": {
   "codemirror_mode": {
    "name": "ipython",
    "version": 3
   },
   "file_extension": ".py",
   "mimetype": "text/x-python",
   "name": "python",
   "nbconvert_exporter": "python",
   "pygments_lexer": "ipython3",
   "version": "3.11.4"
  }
 },
 "nbformat": 4,
 "nbformat_minor": 5
}
