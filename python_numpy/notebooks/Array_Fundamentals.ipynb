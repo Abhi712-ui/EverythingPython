{
 "cells": [
  {
   "cell_type": "code",
   "execution_count": null,
   "id": "471017a7",
   "metadata": {},
   "outputs": [
    {
     "name": "stdout",
     "output_type": "stream",
     "text": [
      "[[1 2 3]\n",
      " [4 5 6]]\n",
      "(2, 3)\n",
      "2\n",
      "6\n",
      "int32\n",
      "4\n",
      "24\n"
     ]
    }
   ],
   "source": [
    "\"\"\"\n",
    " - ndarray is the main data structure in numpy\n",
    " \n",
    "\"\"\"\n",
    "import numpy as np\n",
    "a = np.array(\n",
    "    [\n",
    "        [1, 2, 3], \n",
    "        [4, 5, 6]\n",
    "    ],\n",
    "    dtype=np.int32\n",
    ")\n",
    "print(a)\n",
    "print(a.shape) #Shape is the # of rows and columns (2, 3)\n",
    "print(a.ndim) #Prints the rank of this matrix, in other words, the number of domensions, which can be found by the level of nesting of the arrays. In this case, it's 2\n",
    "print(a.size) #Total number of elements in the array\n",
    "print(a.dtype) #Data type in the array, which is always homogenous, in this case, it's an integer with a size of 32 bits, or 4 bytes\n",
    "print(a.itemsize) #Size in bytes of each element in the array\n",
    "print(a.nbytes) #Total size of the array in bytes"
   ]
  },
  {
   "cell_type": "code",
   "execution_count": 7,
   "id": "5d8ddb38",
   "metadata": {},
   "outputs": [
    {
     "name": "stdout",
     "output_type": "stream",
     "text": [
      "[[0. 0. 0. 0.]\n",
      " [0. 0. 0. 0.]\n",
      " [0. 0. 0. 0.]]\n",
      "[[1. 1.]\n",
      " [1. 1.]]\n",
      "[[7 7 7]\n",
      " [7 7 7]]\n",
      "[0 2 4 6 8]\n",
      "[0.   0.25 0.5  0.75 1.  ]\n"
     ]
    }
   ],
   "source": [
    "print(np.zeros((3, 4), dtype=np.float32))#This function will create an array with the shape that was passed in as a parameter, and fill it with 0s.\n",
    "# The array will have all of its values be 32 bit, or 4 byte float\n",
    "print(np.ones((2, 2))) #Same thing, pretty much, but with 1s instead of 0s\n",
    "print(np.full((2, 3), fill_value=7)) #Creates an array with the specified shape, and fills it with the fill_value\n",
    "np.empty((1000,)) #Quickly creates an uninitialized array     \n",
    "print(np.arange(0, 10, 2)) #creates an array with starting value and finishing value, and every number in between by counting with the specified step size\n",
    "# Does not include the ending value      \n",
    "print(np.linspace(0.0, 1.0, 5)) #creates an array with the starting and end values specified, and the total number of elements (both the start and end included) .\n",
    "#The remaining elements are equal intervals between the start and the end"
   ]
  },
  {
   "cell_type": "code",
   "execution_count": null,
   "id": "a59a36f2",
   "metadata": {},
   "outputs": [],
   "source": [
    "# Dtype control and inference:\n",
    "np.array([1, 2, 3], dtype=np.float32) #This is how you would set the data type explicitly\n",
    "np.asarray([1, 2, 3]) #The asarray method normally converts other iterables into numpy arrays, but if you use it on a numpy array that already exists, \n",
    "#keeping the elements and data type the same, then it will simply give you a view of that array instead of creating a copy, making it memory efficient\n",
    "np.array([True, False], dtype=np.int8) #In this method, we're using the dtype attribute to cast the boolean list into an array of 8 bit integers"
   ]
  },
  {
   "cell_type": "code",
   "execution_count": null,
   "id": "5ba6d5dd",
   "metadata": {},
   "outputs": [
    {
     "name": "stdout",
     "output_type": "stream",
     "text": [
      "[ 0  1  2  3  4  5  6  7  8  9 10 11]\n",
      "[[ 0  1  2  3]\n",
      " [ 4  5  6  7]\n",
      " [ 8  9 10 11]]\n",
      "[[ 1  4  7 10]\n",
      " [ 2  5  8 11]\n",
      " [ 3  6  9 12]]\n",
      "[ 0  1  2  3  4  5  6  7  8  9 10 11]\n",
      "[[1 2 3]\n",
      " [4 5 6]]\n"
     ]
    }
   ],
   "source": [
    "A = np.arange(12) #Generates an array of \n",
    "print(A)\n",
    "B = A.reshape(3, 4, order=\"C\") #Reshapes the array into a 3 x 4 array ordered by row major order\n",
    "print(B)\n",
    "C = np.arange(1, 13).reshape(3, 4, order=\"F\") # this one creates a similar array but organized by column major order instead of row major order, which is the default\n",
    "print(C)\n",
    "np.set_printoptions(precision=3,  suppress=True) \n",
    "# ^Options for printing out all these arrays. precision refers to the number of digits of precision for a float output, which has a default value of 8\n",
    "# If suppress is registered as true, then floating point numbers will always used the fix notation. \n",
    "# If set to false, then they will use scientific notation for larger or smaller values\n",
    "print(A)\n",
    "print(a[:2, :3]) #Sliced the 2D array by getting rid of the third row and the fourth column"
   ]
  },
  {
   "cell_type": "code",
   "execution_count": null,
   "id": "649f6cc2",
   "metadata": {},
   "outputs": [
    {
     "name": "stdout",
     "output_type": "stream",
     "text": [
      "\n",
      "shape: (3, 5)\n",
      "# of dimensions: 2\n",
      "size: 15\n",
      "type: float32\n",
      "item_size: 4\n",
      "total # of bytes: 60\n",
      "\n",
      "[[[ 0  1  2  3]\n",
      "  [ 4  5  6  7]\n",
      "  [ 8  9 10 11]]\n",
      "\n",
      " [[12 13 14 15]\n",
      "  [16 17 18 19]\n",
      "  [20 21 22 23]]\n",
      "\n",
      " [[24 25 26 27]\n",
      "  [28 29 30 31]\n",
      "  [32 33 34 35]]]\n",
      "[0.    0.111 0.222 0.333 0.444 0.556 0.667 0.778 0.889 1.   ]\n",
      "D: 6, E: 24\n",
      "(24, 8)\n",
      "(8, 24)\n",
      "[1 0 1]\n",
      "[ True False  True]\n"
     ]
    }
   ],
   "source": [
    "# Drills\n",
    "#Create a 3×5 array of float32 ones. Report shape, ndim, size, dtype, itemsize, nbytes.\n",
    "A = np.ones((3, 5), dtype=np.float32)\n",
    "info = f\"\"\"\n",
    "shape: {A.shape}\n",
    "# of dimensions: {A.ndim}\n",
    "size: {A.size}\n",
    "type: {A.dtype}\n",
    "item_size: {A.itemsize}\n",
    "total # of bytes: {A.nbytes}\n",
    "\"\"\"\n",
    "print(info)\n",
    "#Build np.arange(36) and reshape to 3×3×4. Verify that size is unchanged.\n",
    "B = np.arange(36).reshape(3, 3, 4)\n",
    "print(B)\n",
    "#Create a length-10 vector from 0 to 1 inclusive with equal spacing. Confirm first, middle, last values.\n",
    "C = np.linspace(0, 1, 10)\n",
    "print(C)\n",
    "#Given [[1,2,3],[4,5,6]], build int8 and float32 versions. Compare nbytes.\n",
    "D = np.array([[1,2,3],[4,5,6]], dtype=np.int8)\n",
    "E = np.array([[1,2,3],[4,5,6]], dtype=np.float32)\n",
    "print(f\"D: {D.nbytes}, E: {E.nbytes}\")\n",
    "#Create a 1000-element array with empty, then safely fill it with index values.\n",
    "F = np.empty(1000, dtype=np.int32)\n",
    "np.copyto(F, np.arange(F.size, dtype=F.dtype))\n",
    "assert F[0] == 0 and F[-1] == 999\n",
    "#Produce two 3×3 arrays using order=\"C\" and order=\"F\". Print strides and explain the difference in one line.\n",
    "G = np.arange(9).reshape(3, 3, order=\"C\")\n",
    "H = np.arange(10, 19).reshape(3, 3, order=\"F\")\n",
    "print(G.strides)\n",
    "print(H.strides)\n",
    "#Show how to convert a Python list of booleans to int8 and back to bool.\n",
    "I = np.array([True, False, True], dtype=np.int8)\n",
    "print(I)\n",
    "print(I.astype(bool))\n",
    "#Set printoptions to show 2 decimals and suppress scientific notation, then print a small random array.\n",
    "np.printoptions(precision=2, suppress=True)"
   ]
  }
 ],
 "metadata": {
  "kernelspec": {
   "display_name": ".venv",
   "language": "python",
   "name": "python3"
  },
  "language_info": {
   "codemirror_mode": {
    "name": "ipython",
    "version": 3
   },
   "file_extension": ".py",
   "mimetype": "text/x-python",
   "name": "python",
   "nbconvert_exporter": "python",
   "pygments_lexer": "ipython3",
   "version": "3.11.4"
  }
 },
 "nbformat": 4,
 "nbformat_minor": 5
}
